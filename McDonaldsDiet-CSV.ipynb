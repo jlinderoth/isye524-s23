{
 "cells": [
  {
   "attachments": {},
   "cell_type": "markdown",
   "metadata": {},
   "source": [
    "# McDonalds Diet Problem\n",
    "\n",
    "In this notebook, we will determine the minimum cost McDonalds diet"
   ]
  },
  {
   "cell_type": "code",
   "execution_count": 47,
   "metadata": {},
   "outputs": [],
   "source": [
    "foods = [:QP, :MD, :BM, :FF, :MC, :FR, :SM, :M1, :OJ]\n",
    "# Word to the wise---Julia symbols cannot start with a number (M1)\n",
    "nutrients = [:Prot, :VitA, :VitC, :Calc, :Iron, :Cals, :Carb]\n",
    "\n",
    "cost = Dict(zip(foods,[1.84,2.19,1.84,1.44,2.29,0.77,1.29,0.6,0.72]))\n",
    "required = Dict(zip(nutrients,[55,100,100,100,100,2000,350]))\n",
    "using NamedArrays\n",
    "A = [\n",
    "    28 24 25 14 31 3 15 9 1\n",
    "    15 15 6 2 8 0 4 10 2\n",
    "    6 10 2 0 15 15 0 4 120\n",
    "    30 20 25 15 15 0 20 30 2\n",
    "    20 20 20 10 8 2 15 0 2\n",
    "    510 370 500 370 400 220 345 110 80\n",
    "    34 33 42 38 42 26 27 12 20\n",
    "]\n",
    "A_NA = NamedArray(A, (nutrients,foods),(\"Nutrients\",\"Menu Items\")) ;\n",
    "\n",
    "\n",
    "\n"
   ]
  },
  {
   "cell_type": "code",
   "execution_count": 48,
   "metadata": {},
   "outputs": [
    {
     "name": "stdout",
     "output_type": "stream",
     "text": [
      "Minimum cost menu $14.855738: \n",
      "Eat 4.385246 of menu item :QP\n",
      "Eat 6.147541 of menu item :FR\n",
      "Eat 3.422131 of menu item :M1\n"
     ]
    }
   ],
   "source": [
    "using JuMP, HiGHS\n",
    "m = Model(HiGHS.Optimizer)\n",
    "@variable(m, x[foods] >= 0)\n",
    "@objective(m, Min, sum(cost[j]*x[j] for j in foods))\n",
    "@constraint(m, [i in nutrients], sum(A_NA[i,j]*x[j] for j in foods) >= required[i])\n",
    "\n",
    "# If you don't want the solver output, you can try this\n",
    "set_silent(m)\n",
    "optimize!(m)\n",
    "\n",
    "using Formatting\n",
    "printfmtln(\"Minimum cost menu \\${:2f}: \", objective_value(m))\n",
    "for j in foods\n",
    "    if value(x[j]) > 1.0e-6\n",
    "        printfmtln(\"Eat {1:2f} of menu item {2}\", value(x[j]), j)\n",
    "    end\n",
    "end\n",
    "\n"
   ]
  },
  {
   "attachments": {},
   "cell_type": "markdown",
   "metadata": {},
   "source": [
    "Let's show how to read it from a spreadsheet\n",
    "(mcdonalds.csv)\n",
    "\n",
    "DataFrames is like Pandas in Python: https://dataframes.juliadata.org/stable/\n"
   ]
  },
  {
   "cell_type": "code",
   "execution_count": 45,
   "metadata": {},
   "outputs": [
    {
     "data": {
      "text/plain": [
       "7×9 Named Matrix{Float64}\n",
       "    Nutrients ╲ Foods │   …  \n",
       "──────────────────────┼──────\n",
       "String15(\"Protein\")   │   …  \n",
       "String15(\"Vitamin A\") │      \n",
       "String15(\"Vitamin C\") │      \n",
       "String15(\"Calcium\")   │      \n",
       "String15(\"Iron\")      │      \n",
       "String15(\"Calories\")  │      \n",
       "String15(\"Carbs\")     │   …  "
      ]
     },
     "metadata": {},
     "output_type": "display_data"
    }
   ],
   "source": [
    "using DataFrames, CSV, NamedArrays\n",
    "df = CSV.read(\"mcdonalds.csv\", DataFrame, delim =',') \n",
    "\n",
    "# Foods are column names starting at the 3rd\n",
    "foods = propertynames(df)[3:end]\n",
    "\n",
    "# Nutrients are the \n",
    "nutrients = convert(Array, df[2:end,1])\n",
    "\n",
    "# Cost\n",
    "cost = Dict(zip(foods,df[1,3:end]))\n",
    "\n",
    "required = Dict(zip(nutrients,df[2:end,2]))\n",
    "\n",
    "# Matrix of data \n",
    "A = Matrix(df[2:end,3:end])\n",
    "\n",
    "A_NA = NamedArray(A, (nutrients,foods), (\"Nutrients\", \"Foods\")) ;\n",
    "\n",
    "# This should solve with the exact same model\n"
   ]
  },
  {
   "cell_type": "code",
   "execution_count": 46,
   "metadata": {},
   "outputs": [
    {
     "name": "stdout",
     "output_type": "stream",
     "text": [
      "Minimum cost menu $14.855738: \n",
      "Eat 4.385246 of menu item Symbol(\"Quarter Pounder\")\n",
      "Eat 6.147541 of menu item Symbol(\"Small Fries\")\n",
      "Eat 3.422131 of menu item Symbol(\"1% Milk\")\n"
     ]
    }
   ],
   "source": [
    "using JuMP, HiGHS\n",
    "m = Model(HiGHS.Optimizer)\n",
    "@variable(m, x[foods] >= 0)\n",
    "@objective(m, Min, sum(cost[j]*x[j] for j in foods))\n",
    "@constraint(m, [i in nutrients], sum(A_NA[i,j]*x[j] for j in foods) >= required[i])\n",
    "\n",
    "# If you don't want the solver output, you can try this\n",
    "set_silent(m)\n",
    "optimize!(m)\n",
    "\n",
    "using Formatting\n",
    "printfmtln(\"Minimum cost menu \\${:2f}: \", objective_value(m))\n",
    "for j in foods\n",
    "    if value(x[j]) > 1.0e-6\n",
    "        printfmtln(\"Eat {1:2f} of menu item {2}\", value(x[j]), j)\n",
    "    end\n",
    "end"
   ]
  }
 ],
 "metadata": {
  "kernelspec": {
   "display_name": "Julia 1.8.3",
   "language": "julia",
   "name": "julia-1.8"
  },
  "language_info": {
   "file_extension": ".jl",
   "mimetype": "application/julia",
   "name": "julia",
   "version": "1.8.3"
  },
  "orig_nbformat": 4
 },
 "nbformat": 4,
 "nbformat_minor": 2
}

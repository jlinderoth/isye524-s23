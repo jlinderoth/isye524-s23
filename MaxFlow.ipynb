{
 "cells": [
  {
   "attachments": {},
   "cell_type": "markdown",
   "metadata": {},
   "source": [
    "# Max Flow Problem Example\n",
    "\n",
    "\n",
    "Suppose you are a newly hired city planner who has just receieved the above image from the mayor. He has asked to to look at the network of pipes in City Hall and tell him how much water can flow from the well (source) to the sewer (sink) with the pipe capacities (gallons/second) given in the network above. What is the maximum flow (in gallons/second) through this network of pipes?\n",
    "\n",
    "(This instance is the example from the Powerpoint video lecture)"
   ]
  },
  {
   "cell_type": "markdown",
   "metadata": {},
   "source": [
    "## Modeling this as a MCNF Problem"
   ]
  },
  {
   "cell_type": "code",
   "execution_count": null,
   "metadata": {},
   "outputs": [],
   "source": [
    "using JuMP, Clp\n",
    "\n",
    "# incidence matrix \n",
    "# (rows are nodes, columns are arcs, entries represent whether arc enters (-1) or leaves (1) each node)\n",
    "A = [1  1  0  0  0  0  0  0  0  0  0 \n",
    "    -1  0  1  1 -1  0  0  0  0  0  0\n",
    "     0 -1 -1  0  1  1 -1  0  0  0  0\n",
    "     0  0  0 -1  0  0  1  1  1 -1  0\n",
    "     0  0  0  0  0 -1  0 -1  0  1  1\n",
    "     0  0  0  0  0  0  0  0 -1  0 -1] \n",
    "\n",
    "# add a dummy arc from sink (5) to source (0)\n",
    "A = [A [-1;0;0;0;0;1]]\n",
    "\n",
    "# supply and demand are all 0\n",
    "b = [0, 0, 0, 0, 0, 0]\n",
    "\n",
    "# costs should be 0 on every arc except dummy\n",
    "# -1 on dummy arc\n",
    "c = [0, 0, 0, 0, 0, 0, 0, 0, 0, 0, 0, -1]\n",
    "\n",
    "# capacities on each arc. make dummy arc capacity \"big enough\"\n",
    "cap = [10, 8, 5, 5, 4, 10, 7, 6, 3, 10, 14, 100]\n",
    "\n",
    "m = Model(Clp.Optimizer)\n",
    "\n",
    "# variables representing how much flow we send on each arc\n",
    "@variable(m, x[1:12] >= 0)\n",
    "\n",
    "# constraints balance flow into and out of each node\n",
    "@constraint(m, A*x .== b)\n",
    "\n",
    "# don't exceed arc capacity\n",
    "@constraint(m, x .<= cap)\n",
    "\n",
    "# minimize the total cost (same as maximizing flow through dummy arc)\n",
    "@objective(m, Min, sum(c[i]*x[i] for i in 1:12))\n",
    "\n",
    "# solve this instance of the max flow problem\n",
    "optimize!(m)\n",
    "\n",
    "# print out the flow on each arc along with total flow\n",
    "println(\"Max flow: \", -objective_value(m)) # need to take negative\n",
    "println(\"Flow on each arc: \")\n",
    "println(\"0-1: \", value(x[1]))\n",
    "println(\"0-2: \", value(x[2]))\n",
    "println(\"1-2: \", value(x[3]))\n",
    "println(\"1-3: \", value(x[4]))\n",
    "println(\"2-1: \", value(x[5]))\n",
    "println(\"2-4: \", value(x[6]))\n",
    "println(\"3-2: \", value(x[7]))\n",
    "println(\"3-4: \", value(x[8]))\n",
    "println(\"3-5: \", value(x[9]))\n",
    "println(\"4-3: \", value(x[10]))\n",
    "println(\"4-5: \", value(x[11]))\n",
    "println(\"Dummy: \", value(x[12]))\n"
   ]
  },
  {
   "cell_type": "code",
   "execution_count": null,
   "metadata": {},
   "outputs": [],
   "source": []
  }
 ],
 "metadata": {
  "kernelspec": {
   "display_name": "Julia 1.7.3",
   "language": "julia",
   "name": "julia-1.7"
  },
  "language_info": {
   "file_extension": ".jl",
   "mimetype": "application/julia",
   "name": "julia",
   "version": "1.7.3"
  }
 },
 "nbformat": 4,
 "nbformat_minor": 4
}

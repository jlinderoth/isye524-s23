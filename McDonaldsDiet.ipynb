{
 "cells": [
  {
   "attachments": {},
   "cell_type": "markdown",
   "metadata": {},
   "source": [
    "# McDonalds Diet Problem\n",
    "\n",
    "In this notebook, we will determine the minimum cost McDonalds diet"
   ]
  },
  {
   "cell_type": "code",
   "execution_count": 49,
   "metadata": {},
   "outputs": [],
   "source": [
    "foods = [:QP, :MD, :BM, :FF, :MC, :FR, :SM, :M1, :OJ]\n",
    "# Word to the wise---Julia symbols cannot start with a number (M1 instead of 1M. It took me a while to figure this out)\n",
    "\n",
    "nutrients = [:Prot, :VitA, :VitC, :Calc, :Iron, :Cals, :Carb]\n",
    "\n",
    "cost = Dict(zip(foods,[1.84,2.19,1.84,1.44,2.29,0.77,1.29,0.6,0.72]))\n",
    "required = Dict(zip(nutrients,[55,100,100,100,100,2000,350]))\n",
    "using NamedArrays\n",
    "A = [\n",
    "    28 24 25 14 31 3 15 9 1\n",
    "    15 15 6 2 8 0 4 10 2\n",
    "    6 10 2 0 15 15 0 4 120\n",
    "    30 20 25 15 15 0 20 30 2\n",
    "    20 20 20 10 8 2 15 0 2\n",
    "    510 370 500 370 400 220 345 110 80\n",
    "    34 33 42 38 42 26 27 12 20\n",
    "]\n",
    "A_NA = NamedArray(A, (nutrients,foods), (\"Nutrients\",\"Menu Items\")) ;\n",
    "\n",
    "\n",
    "\n"
   ]
  },
  {
   "cell_type": "code",
   "execution_count": 50,
   "metadata": {},
   "outputs": [
    {
     "name": "stdout",
     "output_type": "stream",
     "text": [
      "Minimum cost menu $14.855738: \n",
      "Eat 4.385246 of menu item :QP\n",
      "Eat 6.147541 of menu item :FR\n",
      "Eat 3.422131 of menu item :M1\n"
     ]
    }
   ],
   "source": [
    "using JuMP, HiGHS\n",
    "m = Model(HiGHS.Optimizer)\n",
    "@variable(m, x[foods] >= 0)\n",
    "@objective(m, Min, sum(cost[j]*x[j] for j in foods))\n",
    "@constraint(m, [i in nutrients], sum(A_NA[i,j]*x[j] for j in foods) >= required[i])\n",
    "\n",
    "# If you don't want the solver output, you can make it slient like this\n",
    "set_silent(m)\n",
    "optimize!(m)\n",
    "\n",
    "# You can use the Julia Formatting library for prettier printing, specifying precision.\n",
    "using Formatting\n",
    "printfmtln(\"Minimum cost menu \\${:2f}: \", objective_value(m))\n",
    "for j in foods\n",
    "    if value(x[j]) > 1.0e-6\n",
    "        printfmtln(\"Eat {1:2f} of menu item {2}\", value(x[j]), j)\n",
    "    end\n",
    "end\n",
    "\n"
   ]
  }
 ],
 "metadata": {
  "kernelspec": {
   "display_name": "Julia 1.8.3",
   "language": "julia",
   "name": "julia-1.8"
  },
  "language_info": {
   "file_extension": ".jl",
   "mimetype": "application/julia",
   "name": "julia",
   "version": "1.8.3"
  },
  "orig_nbformat": 4
 },
 "nbformat": 4,
 "nbformat_minor": 2
}

{
 "cells": [
  {
   "attachments": {},
   "cell_type": "markdown",
   "metadata": {},
   "source": [
    "# Staffing Post Office\n",
    "\n",
    "The post office needs a minimum number of employees for each day of the week:\n",
    "\n",
    "\n",
    "| Day | M | T | W | R | F | S | S |\n",
    "| ----| --- | ---|---|---|---|---|---|\n",
    "| Index| 1|2|3|4|5|6|7|\n",
    "| Min Required| 17 | 13 | 15 | 19 | 14 | 16 | 11|\n",
    "\n",
    "\n",
    "Full-time office employees must work $5$ consecutive days, but can start their\n",
    "``rotation'' on any day of the week\n",
    "\n",
    "What is the minimum number of full-time employees required?\n",
    "\n"
   ]
  },
  {
   "cell_type": "code",
   "execution_count": 4,
   "metadata": {},
   "outputs": [
    {
     "name": "stdout",
     "output_type": "stream",
     "text": [
      "Minimum number of employees 22.333333: \n",
      "6.333333 workers start on :Monday\n",
      "5.000000 workers start on :Tuesday\n",
      "0.333333 workers start on :Wednesday\n",
      "7.333333 workers start on :Thursday\n",
      "0.000000 workers start on :Friday\n",
      "3.333333 workers start on :Saturday\n",
      "0.000000 workers start on :Sunday\n",
      "Coin0506I Presolve 7 (0) rows, 7 (0) columns and 35 (0) elements\n",
      "Clp0006I 0  Obj 0 Primal inf 105 (7)\n",
      "Clp0006I 5  Obj 22.333333\n",
      "Clp0000I Optimal - objective value 22.333333\n",
      "Clp0032I Optimal objective 22.33333333 - 5 iterations time 0.002\n"
     ]
    }
   ],
   "source": [
    "using NamedArrays\n",
    "\n",
    "day_cover = [:Monday, :Tuesday, :Wednesday, :Thursday, :Friday, :Saturday, :Sunday]\n",
    "\n",
    "start_shift = [:Monday, :Tuesday, :Wednesday, :Thursday, :Friday, :Saturday, :Sunday]\n",
    "\n",
    "required = Dict(zip(day_cover, [17,13,15,19,14,16,11]))\n",
    "\n",
    "shift_cover = [\n",
    "    1 0 0 1 1 1 1\n",
    "    1 1 0 0 1 1 1\n",
    "    1 1 1 0 0 1 1 \n",
    "    1 1 1 1 0 0 1\n",
    "    1 1 1 1 1 0 0 \n",
    "    0 1 1 1 1 1 0\n",
    "    0 0 1 1 1 1 1\n",
    "]\n",
    "\n",
    "A_NA = NamedArray(shift_cover, (day_cover, start_shift), (\"cover date\", \"Rotation start date\")) ;\n",
    "\n",
    "# Now can build the model to find the minimum number of employees\n",
    "\n",
    "using JuMP, Clp\n",
    "m = Model(Clp.Optimizer)\n",
    "@variable(m, x[start_shift] >= 0)\n",
    "@objective(m, Min, sum(x[j] for j in start_shift))\n",
    "@constraint(m, [i in day_cover], sum(A_NA[i,j]*x[j] for j in start_shift) >= required[i])\n",
    "optimize!(m)\n",
    "\n",
    "using Formatting\n",
    "printfmtln(\"Minimum number of employees {:1f}: \", objective_value(m))\n",
    "for j in start_shift\n",
    "    printfmtln(\"{1:1f} workers start on {2}\", value(x[j]), j)\n",
    "end"
   ]
  },
  {
   "attachments": {},
   "cell_type": "markdown",
   "metadata": {},
   "source": [
    "Variation 1\n",
    "\n",
    "* Employees make $1000/week\n",
    "* Employees who work one weekend day make an extra $200/week\n",
    "* Employees who work both weekend days make an extra $500/week\n",
    "\n",
    "Just change the objective function coefficients:\n",
    "\n",
    "| Shift Start | Weekly Pay | \n",
    "| --- | --- | \n",
    "| Monday | 1000 |\n",
    "| Tuesday | 1200 | \n",
    "| Wednesday | 1500 | \n",
    "| Thursday | 1500 | \n",
    "| Friday | 1500 | \n",
    "| Saturday | 1500 | \n",
    "| Sunday | 1200 | \n"
   ]
  },
  {
   "cell_type": "code",
   "execution_count": 5,
   "metadata": {},
   "outputs": [
    {
     "name": "stdout",
     "output_type": "stream",
     "text": [
      "Minimum Employee Cost 28800.000000: \n",
      "6.000000 workers start on :Monday\n",
      "5.333333 workers start on :Tuesday\n",
      "0.000000 workers start on :Wednesday\n",
      "7.333333 workers start on :Thursday\n",
      "0.000000 workers start on :Friday\n",
      "3.333333 workers start on :Saturday\n",
      "0.333333 workers start on :Sunday\n",
      "Coin0506I Presolve 7 (0) rows, 7 (0) columns and 35 (0) elements\n",
      "Clp0006I 0  Obj 0 Primal inf 105 (7)\n",
      "Clp0006I 5  Obj 28800\n",
      "Clp0000I Optimal - objective value 28800\n",
      "Clp0032I Optimal objective 28800 - 5 iterations time 0.002\n"
     ]
    }
   ],
   "source": [
    "costs = Dict(zip(start_shift, [1000, 1200, 1500, 1500, 1500, 1500, 1200]))\n",
    "\n",
    "using JuMP, Clp\n",
    "m = Model(Clp.Optimizer)\n",
    "@variable(m, x[start_shift] >= 0)\n",
    "@objective(m, Min, sum(costs[j]*x[j] for j in start_shift))\n",
    "@constraint(m, [i in day_cover], sum(A_NA[i,j]*x[j] for j in start_shift) >= required[i])\n",
    "optimize!(m)\n",
    "\n",
    "using Formatting\n",
    "printfmtln(\"Minimum Employee Cost {:1f}: \", objective_value(m))\n",
    "for j in start_shift\n",
    "    printfmtln(\"{1:1f} workers start on {2}\", value(x[j]), j)\n",
    "end"
   ]
  },
  {
   "attachments": {},
   "cell_type": "markdown",
   "metadata": {},
   "source": [
    "Variation #2\n",
    "\n",
    "* Part-time employees: Work two days/week, but most be consecutive.  Paid $200/day for weekday, $300/day for weekend\n",
    "* No more than 10% of employees can be part-time\n",
    "\n",
    "| Part Time Start | Pay |\n",
    "| --- | --- | \n",
    "| Monday | 400 | \n",
    "| Tuesday | 400 | \n",
    "| Wednesday | 400 | \n",
    "| Thursday | 400 | \n",
    "| Friday | 500 | \n",
    "| Saturday | 600 | \n",
    "| Sunday | 500 |\n"
   ]
  },
  {
   "cell_type": "code",
   "execution_count": 6,
   "metadata": {},
   "outputs": [
    {
     "name": "stdout",
     "output_type": "stream",
     "text": [
      "Minimum Employee Cost 28281.818182: \n",
      "Coin0506I Presolve 14 (-14) rows, 14 (-14) columns and 98 (7) elements\n",
      "Clp0006I 0  Obj 0 Primal inf 104.99999 (7)\n",
      "Clp0006I 10  Obj 28281.818\n",
      "Clp0000I Optimal - objective value 28281.818\n",
      "Coin0511I After Postsolve, objective 28281.818, infeasibilities - dual 0 (0), primal 0 (0)\n",
      "Clp0032I Optimal objective 28281.81818 - 10 iterations time 0.002, Presolve 0.00\n"
     ]
    },
    {
     "ename": "LoadError",
     "evalue": "syntax: line break in \":\" expression",
     "output_type": "error",
     "traceback": [
      "syntax: line break in \":\" expression",
      "",
      "Stacktrace:",
      " [1] top-level scope",
      "   @ In[6]:39",
      " [2] eval",
      "   @ ./boot.jl:368 [inlined]",
      " [3] include_string(mapexpr::typeof(REPL.softscope), mod::Module, code::String, filename::String)",
      "   @ Base ./loading.jl:1428"
     ]
    }
   ],
   "source": [
    "# Here is a dictionary of the weekly (2 day) costs for part time employees\n",
    "part_time_costs = Dict(zip(start_shift, [400, 400, 400, 400, 500, 600, 500]))\n",
    "\n",
    "# Coverage matrix for part time employees\n",
    "part_time_shift_cover = [\n",
    "    1 0 0 0 0 0 1\n",
    "    1 1 0 0 0 0 0\n",
    "    0 1 1 0 0 0 0 \n",
    "    0 0 1 1 0 0 0\n",
    "    0 0 0 1 1 0 0 \n",
    "    0 0 0 0 1 1 0\n",
    "    0 0 0 0 0 1 1\n",
    "]\n",
    "\n",
    "B_NA = NamedArray(part_time_shift_cover, (day_cover, start_shift), (\"cover date\", \"Part Time Rotation start date\")) ;\n",
    "\n",
    "using JuMP, Clp\n",
    "m = Model(Clp.Optimizer)\n",
    "@variable(m, x[start_shift] >= 0) # Regular workers start\n",
    "@variable(m, y[start_shift] >= 0) # Part time workers start\n",
    "@variable(m, u[day_cover] >= 0) # Regular workers working on day\n",
    "@variable(m, v[day_cover] >= 0) # Part time workers working on day\n",
    "\n",
    "@objective(m, Min, sum(costs[j]*x[j] + part_time_costs[j]*y[j] for j in start_shift))\n",
    "\n",
    "@constraint(m, [i in day_cover], sum(A_NA[i,j]*x[j] for j in start_shift) == u[i])\n",
    "@constraint(m, [i in day_cover], sum(B_NA[i,j]*y[j] for j in start_shift) == v[i])\n",
    "@constraint(m, [i in day_cover], u[i] + v[i] >= required[i])\n",
    "\n",
    "# You can try it with and without this constraint to see the difference imposed by the Union retriction\n",
    "@constraint(m, [i in day_cover], v[i] <= 0.1 * u[i])\n",
    "\n",
    "optimize!(m)\n",
    "\n",
    "using Formatting\n",
    "printfmtln(\"Minimum Employee Cost {:1f}: \", objective_value(m))\n",
    "for j in start_shift\n",
    "    if value(x[j]) > 0.01\n",
    "        printfmtln(\"{1:1f} Regular Workers start on {2}\", value(x[j]), j)\n",
    "    end\n",
    "    if value(y[j]) > 0.01\n",
    "        printfmtln(\"{1:1f} Part Time Workers start on {2}\", value(y[j]), j)\n",
    "    end\n",
    "end\n",
    "\n",
    "printfmtln(\"Minimum Employee Cost {:1f}: \", objective_value(m))\n",
    "for i in day_cover\n",
    "    if value(u[i]) > 0.01\n",
    "        printfmtln(\"{1:1f} Regular Working on {2}\", value(u[i]), i)\n",
    "    end\n",
    "    if value(v[i]) > 0.01\n",
    "        printfmtln(\"{1:1f} Part Time Working on {2}\", value(v[i]), i)\n",
    "    end\n",
    "end\n",
    "\n"
   ]
  }
 ],
 "metadata": {
  "kernelspec": {
   "display_name": "Julia 1.8.3",
   "language": "julia",
   "name": "julia-1.8"
  },
  "language_info": {
   "file_extension": ".jl",
   "mimetype": "application/julia",
   "name": "julia",
   "version": "1.8.3"
  }
 },
 "nbformat": 4,
 "nbformat_minor": 2
}

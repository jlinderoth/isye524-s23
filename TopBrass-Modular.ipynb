{
 "cells": [
  {
   "cell_type": "markdown",
   "metadata": {},
   "source": [
    "# Top Brass (Modular version) -- Example 5.1 in Rardin (1998)\n",
    "\n",
    "Top Brass Trophy Company makes large championship trophies for youth athletic leagues. At the moment, they are planning production for fall sports: football and soccer. Each football trophy has a wood base, an engraved plaque, a large brass football on top, and returns \\\\$12 in profit. Soccer trophies are similar (a brass ball, a wood base, and an engraved plaque) except that a brass soccer ball is on top, and the unit profit is only \\\\$9. Since the football has an asymmetric shape, its base requires 4 board feet of wood; the soccer base requires only 2 board feet. At the moment there are 1000 brass footballs in stock, 1500 soccer balls, 1750 plaques, and 4800 board feet of wood. What trophies should be produced from these supplies to maximize total profit assuming that all that are made can be sold?\n",
    "\n",
    "## Problem Data\n",
    "\n",
    "We can improve our code's modifiability and reusability by separating the _data_ from the _structure_."
   ]
  },
  {
   "cell_type": "code",
   "execution_count": null,
   "metadata": {},
   "outputs": [],
   "source": [
    "# An Array in Julia is a list of elements\n",
    "trophy_types = [:football, :soccer] # these are the possible trophy types\n",
    "\n",
    "# this array is of type \"Symbol.\" Putting a colon in front of an element makes it a \"Symbol\" type.\n",
    "# typically Symbol arrays are easier to implement in JuMP than other types (such as string, integer, etc.)\n",
    "\n",
    "# A Dictionary in Julia maps a key (any type) to an element (any type)\n",
    "wood_req = Dict(:football => 4, :soccer => 2) # how much wood each trophy type will use\n",
    "\n",
    "# in this Dictionary, we are mapping keys of Symbol type (:football) to elements of integer type (4)\n",
    "\n",
    "plaque_req = Dict(:football => 1, :soccer => 1) # how many plaques each trophy type will use\n",
    "\n",
    "profit = Dict( :football => 12, :soccer => 9) # profit produced by each trophy type\n",
    "\n",
    "# we are told the amount of each resource we have available\n",
    "wood_avail = 4800\n",
    "plaques_avail = 1750\n",
    "football_avail = 1000\n",
    "soccer_avail = 1500;     # semicolons supress output"
   ]
  },
  {
   "cell_type": "markdown",
   "metadata": {},
   "source": [
    "## Top Brass Model\n",
    "\n",
    "Now that we've defined our _data_ we can build a _general model_."
   ]
  },
  {
   "cell_type": "code",
   "execution_count": null,
   "metadata": {},
   "outputs": [],
   "source": [
    "# always specify which packages you're going to use\n",
    "using JuMP, Clp\n",
    "\n",
    "#create a new model object, specifying the solver\n",
    "m = Model(Clp.Optimizer)\n",
    "\n",
    "# trophy variable object is now a Dictionary indexed over trophy types (elements are variables)\n",
    "@variable(m, trophy[trophy_types] >= 0)\n",
    "\n",
    "# maximize profit by summing (profit/trophy * # trophies) for each type\n",
    "@objective(m, Max, sum(profit[i] * trophy[i] for i in trophy_types) )   \n",
    "\n",
    "@constraint(m, sum(wood_req[i] * trophy[i] for i in trophy_types) <= wood_avail) # use only available wood\n",
    "@constraint(m, sum(plaque_req[i] * trophy[i] for i in trophy_types) <= plaques_avail) # use only available plaques\n",
    "@constraint(m, trophy[:football] <= football_avail)  # use only available brass footballs\n",
    "@constraint(m, trophy[:soccer] <= soccer_avail)  # use only available brass soccer balls\n",
    "\n",
    "status = optimize!(m) # solve instance of model\n",
    "\n",
    "println(value.(trophy)) # print values of trophy variables \n",
    "# note the output is quite ugly. we'll see how to make it look nicer soon.\n",
    "println(\"Total profit will be \\$\", objective_value(m))\n",
    "println(\"We will use \", value(sum(wood_req[i] * trophy[i] for i in trophy_types) ), \" board feet of wood\")\n",
    "println(\"We will use \", value(sum(plaque_req[i] * trophy[i] for i in trophy_types) ), \" plaques\")"
   ]
  },
  {
   "cell_type": "markdown",
   "metadata": {},
   "source": [
    "Another way to do the same thing using \"expression\" objects:"
   ]
  },
  {
   "cell_type": "code",
   "execution_count": null,
   "metadata": {},
   "outputs": [],
   "source": [
    "# create expressions for the total amount of wood and plaques used over all trophies\n",
    "# syntax is (<model name>, <expression name>, <algebraic function>)\n",
    "@expression(m, tot_wood, sum(wood_req[i] * trophy[i] for i in trophy_types) )\n",
    "@expression(m, tot_plaques, sum(plaque_req[i] * trophy[i] for i in trophy_types) )\n",
    "# create an expression for the total amount of profit over all trohpies\n",
    "@expression(m, tot_profit, sum(profit[i] * trophy[i] for i in trophy_types) )\n",
    "\n",
    "# constraints become much simpler\n",
    "@constraint(m, tot_wood <= wood_avail)\n",
    "@constraint(m, tot_plaques <= plaques_avail)\n",
    "@constraint(m, trophy[:football] <= football_avail)\n",
    "@constraint(m, trophy[:soccer] <= soccer_avail)\n",
    "\n",
    "# the objective is also very simple\n",
    "@objective(m, Max, tot_profit)\n",
    "\n",
    "# solve the instance of the model \n",
    "status = optimize!(m)\n",
    "\n",
    "# print interesting solution components, including expression values\n",
    "println(value.(trophy))\n",
    "println(\"Total profit will be \\$\", objective_value(m))\n",
    "println(\"We will use \", value(tot_wood), \" board feet of wood\")\n",
    "println(\"We will use \", value(tot_plaques), \" plaques\")"
   ]
  },
  {
   "cell_type": "code",
   "execution_count": null,
   "metadata": {},
   "outputs": [],
   "source": []
  }
 ],
 "metadata": {
  "kernelspec": {
   "display_name": "Julia 1.7.3",
   "language": "julia",
   "name": "julia-1.7"
  },
  "language_info": {
   "file_extension": ".jl",
   "mimetype": "application/julia",
   "name": "julia",
   "version": "1.7.3"
  }
 },
 "nbformat": 4,
 "nbformat_minor": 4
}

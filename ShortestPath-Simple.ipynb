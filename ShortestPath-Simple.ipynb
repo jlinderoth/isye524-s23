{
 "cells": [
  {
   "attachments": {},
   "cell_type": "markdown",
   "metadata": {},
   "source": [
    "# Simple shortest path LP (as MCNF)\n",
    "\n",
    "Here we implement the simple shortest path LP as a min cost network flow problem"
   ]
  },
  {
   "cell_type": "code",
   "execution_count": 39,
   "metadata": {},
   "outputs": [
    {
     "data": {
      "text/plain": [
       "Dict{Tuple{Int64, Int64}, Float64} with 11 entries:\n",
       "  (4, 5) => Inf\n",
       "  (1, 2) => Inf\n",
       "  (2, 5) => Inf\n",
       "  (1, 3) => Inf\n",
       "  (4, 6) => Inf\n",
       "  (3, 5) => Inf\n",
       "  (2, 4) => Inf\n",
       "  (3, 2) => Inf\n",
       "  (3, 4) => Inf\n",
       "  (5, 6) => Inf\n",
       "  (5, 4) => Inf"
      ]
     },
     "metadata": {},
     "output_type": "display_data"
    }
   ],
   "source": [
    "\n",
    "N = [i for i in 1:6]\n",
    "A = [(1,2), (1,3), (2,4), (2,5), (3,2), (3,4), (3,5), (4,5), (4,6), (5,4), (5,6)]\n",
    "\n",
    "# Put in the lengths\n",
    "c = Dict((1,2) => 9, \n",
    "(1,3) => 3,\n",
    "(2,4) => 8,\n",
    "(2,5) => 3,\n",
    "(3,2) => 2,\n",
    "(3,4) => 12,\n",
    "(3,5) => 11,\n",
    "(4,5) => 5,\n",
    "(4,6) => 4,\n",
    "(5,4) => 6,\n",
    "(5,6) => 10\n",
    ")\n",
    "\n",
    "# Put in the \"net supply\", most zero.\n",
    "b = Dict(i => 0 for i in N)\n",
    "b[1] = 1\n",
    "b[6] = -1\n",
    "\n",
    "# Lower bounds\n",
    "L = Dict(a => 0 for a in A)\n",
    "\n",
    "# Upper Bounds (can be 1 or infinity)\n",
    "U = Dict(a => Inf for a in A)\n",
    "\n",
    "\n",
    "\n"
   ]
  },
  {
   "attachments": {},
   "cell_type": "markdown",
   "metadata": {},
   "source": [
    "Now just use a \"standard\" MCNF model \n",
    "$$\\min \\sum_{i,j \\in A} c_{ij} x_{ij}$$\n",
    "\n",
    "$$\\sum_{j  :  (i,j) \\in A} x_{ij} - \\sum_{j  :  (j,i) \\in A} x_{ji} = b_i \\quad \\forall i \\in N$$\n",
    "\n",
    "$$L_{ij} \\leq x_{ij} \\leq U_{ij} \\quad \\forall (i,j) \\in A$$\n"
   ]
  },
  {
   "cell_type": "code",
   "execution_count": 40,
   "metadata": {},
   "outputs": [
    {
     "name": "stdout",
     "output_type": "stream",
     "text": [
      "Shortest Path has length: 17.0\n",
      "Uses arc: (1, 3)\n",
      "Uses arc: (2, 4)\n",
      "Uses arc: (3, 2)\n",
      "Uses arc: (4, 6)\n"
     ]
    }
   ],
   "source": [
    "using JuMP, HiGHS\n",
    "m = Model(HiGHS.Optimizer)\n",
    "@variable(m, x[a in A])\n",
    "# Set bounds like this\n",
    "for a in A \n",
    "    set_lower_bound(x[a], L[a])\n",
    "    if U[a] < Inf\n",
    "        set_upper_bound(x[a], U[a])\n",
    "    end\n",
    "end\n",
    "\n",
    "# @constraint(m, flowbalance[i in nodes],\n",
    "#     sum(x[(i,j)] for j in nodes if (i,j) in arcs) - \n",
    "#     sum(x[(j,i)] for j in nodes if (j,i) in arcs) \n",
    "#     == b[i])\n",
    "\n",
    "@objective(m, Min, sum(c[a]*x[a] for a in A))\n",
    "@constraint(m, flow_balance[i in N], sum(x[(i,j)] for j in N if (i,j) in A) - sum(x[(j,i)] for j in N if (j,i) in A) == b[i])\n",
    "\n",
    "set_silent(m)\n",
    "optimize!(m)\n",
    "\n",
    "println(\"Shortest Path has length: \",round(objective_value(m),digits=2))\n",
    "for a in A \n",
    "    if value(x[a]) > 0.1\n",
    "        println(\"Uses arc: \", a)\n",
    "    end\n",
    "end"
   ]
  },
  {
   "attachments": {},
   "cell_type": "markdown",
   "metadata": {},
   "source": [
    "# Single-source all destination shortest path\n",
    "\n",
    "It's also very easy to do shortest path from a given node $s$ to all other nodes $i \\in N$\n",
    "Just set $b_s = n-1$ and $b_i = -1 \\forall i \\neq s \\in N$"
   ]
  },
  {
   "cell_type": "code",
   "execution_count": 42,
   "metadata": {},
   "outputs": [
    {
     "name": "stdout",
     "output_type": "stream",
     "text": [
      "Shortest Path Tree has length: 46.0\n",
      "Uses arc: (1, 3)\n",
      "Uses arc: (2, 4)\n",
      "Uses arc: (2, 5)\n",
      "Uses arc: (3, 2)\n",
      "Uses arc: (4, 6)\n"
     ]
    }
   ],
   "source": [
    "# Put in the \"net supply\", most zero.\n",
    "b[1] = length(N) - 1\n",
    "for i in 2:5\n",
    "    b[i] = -1\n",
    "end \n",
    "\n",
    "# We coudl build from scratch, but let's just try to change the RHS in JuMP\n",
    "# https://jump.dev/JuMP.jl/stable/reference/constraints/#JuMP.set_normalized_rhs\n",
    "\n",
    "for i in N\n",
    "    set_normalized_rhs(flow_balance[i], b[i])\n",
    "end\n",
    "\n",
    "optimize!(m)\n",
    "\n",
    "println(\"Shortest Path Tree has length: \",round(objective_value(m),digits=2))\n",
    "for a in A \n",
    "    if value(x[a]) > 0.1\n",
    "        println(\"Uses arc: \", a)\n",
    "    end\n",
    "end\n"
   ]
  }
 ],
 "metadata": {
  "kernelspec": {
   "display_name": "Julia 1.8.3",
   "language": "julia",
   "name": "julia-1.8"
  },
  "language_info": {
   "file_extension": ".jl",
   "mimetype": "application/julia",
   "name": "julia",
   "version": "1.8.3"
  },
  "orig_nbformat": 4
 },
 "nbformat": 4,
 "nbformat_minor": 2
}

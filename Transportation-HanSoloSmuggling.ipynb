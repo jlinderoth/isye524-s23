{
 "cells": [
  {
   "cell_type": "markdown",
   "metadata": {},
   "source": [
    "# A Transportation Problem Example -- Han Solo's Smuggling"
   ]
  },
  {
   "cell_type": "markdown",
   "metadata": {},
   "source": [
    "Han Solo has three big crime lords he’s trying to keep happy and is planning three new storage bases from which to ship his smuggled goods. Each crime lord requires specific numbers of deliveries each day and each site can supply different numbers of deliveries. It costs Han 4 credits/parsec to travel between the storage sites and crime lords. Distances to each crime lord from each storage site are given below:\n",
    "\n",
    "| Route  | Jabba | Pyke    | Sollima | Capacity | \n",
    "|-------:|------:|--------:|--------:|---------:|\n",
    "|      1 | 50    |   25    |  84     | 24       | \n",
    "|      2 | 12    |   75    |  18     | 12       |\n",
    "|      3 | 64    |   39    |  70     | 9        | \n",
    "|Cred Req| 16    |   20    |  9      | = 45     |\n",
    "\n",
    "How should Han route deliveries to the crime lords while minimize his costs and meeting all demands?"
   ]
  },
  {
   "cell_type": "code",
   "execution_count": null,
   "metadata": {},
   "outputs": [],
   "source": [
    "using JuMP, Clp, NamedArrays\n",
    "\n",
    "# create index sets of storage sites and crime lords\n",
    "sites = [ 1,  2,  3]\n",
    "crimelords = [:J, :P, :S]\n",
    "\n",
    "# cost to ship from storage site to crime lord\n",
    "cost_per_haul = 4\n",
    "# NOTE: either 4 or 4*2 would be correct (with or without return trip -- just scales objective)\n",
    "\n",
    "# create a NamedArray with indices of Sites (rows) and Crime Lords (columns). Elements are distances.\n",
    "dist = NamedArray( [50 25 84; 12 75 18;64 39 70], (sites,crimelords), (\"Sites\",\"Crimelords\") )\n",
    "# each site has a max # of deliveries\n",
    "supply = Dict(zip( sites, [24 12 9] ))\n",
    "# each crime lord has a required number of deliveries\n",
    "demand = Dict(zip( crimelords, [16 20 9] ))\n",
    "\n",
    "m = Model(Clp.Optimizer)\n",
    "\n",
    "@variable(m, x[sites,crimelords] >= 0) # x[i,j] is number of deliveries sent from site i to crimelord j\n",
    "\n",
    "@constraint(m, sup[i in sites], sum(x[i,j] for j in crimelords) == supply[i] )   # supply constraint\n",
    "@constraint(m, dem[j in crimelords], sum(x[i,j] for i in sites) == demand[j] )   # demand constraint\n",
    "\n",
    "# minimize transportation cost\n",
    "@objective(m, Min, cost_per_haul*sum( x[i,j]*dist[i,j] for i in sites, j in crimelords ) ) \n",
    "\n",
    "# solve this instance of the trasportation problem\n",
    "optimize!(m)\n",
    "\n",
    "# print out a nicely formatted solution\n",
    "solution = NamedArray( \n",
    "    Int[value(x[i,j]) for i in sites, j in crimelords], \n",
    "    (sites,crimelords), \n",
    "    (\"Sites\",\"Crimelords\") \n",
    ")\n",
    "println( solution )\n",
    "println()\n",
    "println(\"Total cost will be \\$\", objective_value(m))\n"
   ]
  },
  {
   "cell_type": "code",
   "execution_count": null,
   "metadata": {},
   "outputs": [],
   "source": []
  }
 ],
 "metadata": {
  "kernelspec": {
   "display_name": "Julia 1.7.3",
   "language": "julia",
   "name": "julia-1.7"
  },
  "language_info": {
   "file_extension": ".jl",
   "mimetype": "application/julia",
   "name": "julia",
   "version": "1.7.3"
  }
 },
 "nbformat": 4,
 "nbformat_minor": 4
}

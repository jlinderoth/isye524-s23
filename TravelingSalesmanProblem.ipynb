{
 "cells": [
  {
   "cell_type": "markdown",
   "metadata": {},
   "source": [
    "# A TSP Example\n",
    "\n",
    "Find the closed tour that visits all ten cities and has the minimum total length. Distances between pairs of cities are given in the table below:\n",
    "\n",
    "|         |  ATL  |  ORD  |  DEN  |  IAH  |  LAX  |  MIA  |  JFK  |  SFO  |  SEA  |  DCA  |\n",
    "|--------:|------:|------:|------:|------:|------:|------:|------:|------:|------:|------:|\n",
    "|**ATL**  |    0  |  587  | 1212  |  701  | 1936  |  604  |  748  | 2139  | 2182  |  543  |\n",
    "|**ORD**  |  587  |    0  |  920  |  940  | 1745  | 1188  |  713  | 1858  | 1737  |  597  |\n",
    "|**DEN**  | 1212  |  920  |    0  |  879  |  831  | 1726  | 1631  |  949  | 1021  | 1494  |\n",
    "|**IAH**  |  701  |  940  |  879  |    0  | 1379  |  968  | 1420  | 1645  | 1891  | 1220  |\n",
    "|**LAX**  | 1936  | 1745  |  831  | 1379  |    0  | 2339  | 2451  |  347  |  959  | 2300  |\n",
    "|**MIA**  |  604  | 1188  | 1726  |  968  | 2339  |    0  | 1092  | 2594  | 2734  |  923  |\n",
    "|**JFK**  |  748  |  713  | 1631  | 1420  | 2451  | 1092  |    0  | 2571  | 2408  |  205  |\n",
    "|**SFO**  | 2139  | 1858  |  949  | 1645  |  347  | 2594  | 2571  |    0  |  678  | 2442  |\n",
    "|**SEA**  | 2182  | 1737  | 1021  | 1891  |  959  | 2734  | 2408  |  678  |    0  | 2329  |\n",
    "|**DCA**  |  543  |  597  | 1494  | 1220  | 2300  |  923  |  205  | 2442  | 2329  |    0  |"
   ]
  },
  {
   "cell_type": "code",
   "execution_count": 24,
   "metadata": {},
   "outputs": [],
   "source": [
    "# Define the problem data (cities and costs)\n",
    "using JuMP, NamedArrays, HiGHS\n",
    "\n",
    "cities = [:ATL, :ORD, :DEN, :IAH, :LAX, :MIA, :JFK, :SFO, :SEA, :DCA]\n",
    "\n",
    "distances = [     0   587  1212   701  1936   604   748  2139  2182   543\n",
    "                587     0   920   940  1745  1188   713  1858  1737   597\n",
    "               1212   920     0   879   831  1726  1631   949  1021  1494\n",
    "                701   940   879     0  1379   968  1420  1645  1891  1220\n",
    "               1936  1745   831  1379     0  2339  2451   347   959  2300\n",
    "                604  1188  1726   968  2339     0  1092  2594  2734   923\n",
    "                748   713  1631  1420  2451  1092     0  2571  2408   205\n",
    "               2139  1858   949  1645   347  2594  2571     0   678  2442\n",
    "               2182  1737  1021  1891   959  2734  2408   678     0  2329\n",
    "                543   597  1494  1220  2300   923   205  2442  2329     0  ]\n",
    "\n",
    "c = NamedArray(distances,(cities,cities))\n",
    "N = size(distances,1);"
   ]
  },
  {
   "attachments": {},
   "cell_type": "markdown",
   "metadata": {},
   "source": [
    "![TSP0](plot0.png)\n",
    "\n",
    "## Solve TSP using min-cost flow relaxation"
   ]
  },
  {
   "cell_type": "code",
   "execution_count": 25,
   "metadata": {},
   "outputs": [
    {
     "data": {
      "text/plain": [
       "Dict{Symbol, Float64} with 10 entries:\n",
       "  :ATL => -84.4279\n",
       "  :SFO => -122.375\n",
       "  :DEN => -104.673\n",
       "  :DCA => -77.0377\n",
       "  :SEA => -122.312\n",
       "  :ORD => -87.908\n",
       "  :IAH => -95.2789\n",
       "  :LAX => -118.408\n",
       "  :JFK => -73.7787\n",
       "  :MIA => -80.2901"
      ]
     },
     "metadata": {},
     "output_type": "display_data"
    }
   ],
   "source": [
    "# HELPER FUNCTION: returns the cycle containing the city START.\n",
    "function getSubtour(x,start)\n",
    "    subtour = [start]\n",
    "    while true\n",
    "        j = subtour[end]\n",
    "        for k in cities\n",
    "            if x[k,j] == 1\n",
    "                push!(subtour,k)\n",
    "                break\n",
    "            end\n",
    "        end\n",
    "        if subtour[end] == start\n",
    "            break\n",
    "        end\n",
    "    end\n",
    "    return subtour\n",
    "end\n",
    "\n",
    "# HELPER FUNCTION: returns a list of all cycles\n",
    "function getAllSubtours(x)\n",
    "    nodesRemaining = cities\n",
    "    subtours = []\n",
    "    while length(nodesRemaining) > 0\n",
    "        subtour = getSubtour(x,nodesRemaining[1])\n",
    "        push!(subtours, subtour)\n",
    "        nodesRemaining = setdiff(nodesRemaining,subtour)\n",
    "    end\n",
    "    return subtours\n",
    "end\n",
    "\n",
    "# HELPER FUNCTION FOR MAPPING AIRPORTS\n",
    "\n",
    "data = [ 33.636700  -84.427863 \n",
    "         41.977320  -87.908005\n",
    "         39.861667 -104.673166\n",
    "         29.645417  -95.278888\n",
    "         33.942437 -118.408121\n",
    "         25.795361  -80.290110\n",
    "         40.639926  -73.778694\n",
    "         37.618806 -122.375416\n",
    "         47.449889 -122.311777\n",
    "         38.851444  -77.037721 ]\n",
    "lat = Dict(zip(cities,data[:,1]))\n",
    "lon = Dict(zip(cities,data[:,2]))"
   ]
  },
  {
   "cell_type": "code",
   "execution_count": 26,
   "metadata": {},
   "outputs": [
    {
     "data": {
      "text/plain": [
       "5-element Vector{Any}:\n",
       " [:ATL, :MIA, :ATL]\n",
       " [:ORD, :IAH, :ORD]\n",
       " [:DEN, :SEA, :DEN]\n",
       " [:LAX, :SFO, :LAX]\n",
       " [:JFK, :DCA, :JFK]"
      ]
     },
     "metadata": {},
     "output_type": "display_data"
    },
    {
     "name": "stdout",
     "output_type": "stream",
     "text": [
      "10×10 Named Matrix{Int64}\n",
      "A ╲ B │ :ATL  :ORD  :DEN  :IAH  :LAX  :MIA  :JFK  :SFO  :SEA  :DCA\n",
      "──────┼───────────────────────────────────────────────────────────\n",
      ":ATL  │    0     0     0     0     0     1     0     0     0     0\n",
      ":ORD  │    0     0     0     1     0     0     0     0     0     0\n",
      ":DEN  │    0     0     0     0     0     0     0     0     1     0\n",
      ":IAH  │    0     1     0     0     0     0     0     0     0     0\n",
      ":LAX  │    0     0     0     0     0     0     0     1     0     0\n",
      ":MIA  │    1     0     0     0     0     0     0     0     0     0\n",
      ":JFK  │    0     0     0     0     0     0     0     0     0     1\n",
      ":SFO  │    0     0     0     0     1     0     0     0     0     0\n",
      ":SEA  │    0     0     1     0     0     0     0     0     0     0\n",
      ":DCA  │    0     0     0     0     0     0     1     0     0     0\n",
      "0; Iter: Time   4.053e-08; average =   4.053e-09; Bound =   4.138e-06\n"
     ]
    }
   ],
   "source": [
    "# solve the simplest version (min-cost flow version; it's an assignment problem)\n",
    "\n",
    "m = Model(HiGHS.Optimizer)\n",
    "set_silent(m)\n",
    "\n",
    "@variable(m, 0 <= x[cities,cities] <= 1)                               # LP relaxation\n",
    "@constraint(m, c1[j in cities], sum( x[i,j] for i in cities ) == 1)    # exacly one edge out of each node\n",
    "@constraint(m, c2[i in cities], sum( x[i,j] for j in cities ) == 1)    # exactly one edge into each node\n",
    "@constraint(m, c3[i in cities], x[i,i] == 0 )                          # no self-loops\n",
    "@objective(m, Min, sum( x[i,j]*c[i,j] for i in cities, j in cities ))  # minimize total cost\n",
    "optimize!(m)\n",
    "\n",
    "# pretty print the solution\n",
    "xx = value.(x)\n",
    "sol = NamedArray(zeros(Int,N,N),(cities,cities))\n",
    "for i in cities\n",
    "    for j in cities\n",
    "        if xx[i,j] > 0.5\n",
    "            sol[i,j] = 1\n",
    "        end\n",
    "    end\n",
    "end\n",
    "println(sol)\n",
    "sleep(1)\n",
    "display(getAllSubtours(sol))\n",
    ";"
   ]
  },
  {
   "cell_type": "markdown",
   "metadata": {},
   "source": [
    "![TSP1](plot1.png)\n",
    "\n",
    "## Solve TSP using adaptive subtour elimination"
   ]
  },
  {
   "cell_type": "code",
   "execution_count": 27,
   "metadata": {},
   "outputs": [
    {
     "data": {
      "text/plain": [
       "5-element Vector{Any}:\n",
       " [:ATL, :MIA, :ATL]\n",
       " [:ORD, :IAH, :ORD]\n",
       " [:DEN, :SEA, :DEN]\n",
       " [:LAX, :SFO, :LAX]\n",
       " [:JFK, :DCA, :JFK]"
      ]
     },
     "metadata": {},
     "output_type": "display_data"
    },
    {
     "data": {
      "text/plain": [
       "3-element Vector{Any}:\n",
       " [:ATL, :IAH, :MIA, :ATL]\n",
       " [:ORD, :DCA, :JFK, :ORD]\n",
       " [:DEN, :LAX, :SFO, :SEA, :DEN]"
      ]
     },
     "metadata": {},
     "output_type": "display_data"
    },
    {
     "data": {
      "text/plain": [
       "3-element Vector{Any}:\n",
       " [:ATL, :MIA, :DCA, :JFK, :ORD, :ATL]\n",
       " [:DEN, :IAH, :DEN]\n",
       " [:LAX, :SFO, :SEA, :LAX]"
      ]
     },
     "metadata": {},
     "output_type": "display_data"
    },
    {
     "data": {
      "text/plain": [
       "3-element Vector{Any}:\n",
       " [:ATL, :DCA, :JFK, :ORD, :IAH, :MIA, :ATL]\n",
       " [:DEN, :LAX, :DEN]\n",
       " [:SFO, :SEA, :SFO]"
      ]
     },
     "metadata": {},
     "output_type": "display_data"
    },
    {
     "data": {
      "text/plain": [
       "3-element Vector{Any}:\n",
       " [:ATL, :ORD, :JFK, :DCA, :ATL]\n",
       " [:DEN, :SFO, :LAX, :SEA, :DEN]\n",
       " [:IAH, :MIA, :IAH]"
      ]
     },
     "metadata": {},
     "output_type": "display_data"
    },
    {
     "data": {
      "text/plain": [
       "1-element Vector{Any}:\n",
       " [:ATL, :MIA, :IAH, :LAX, :SFO, :SEA, :DEN, :ORD, :JFK, :DCA, :ATL]"
      ]
     },
     "metadata": {},
     "output_type": "display_data"
    },
    {
     "name": "stdout",
     "output_type": "stream",
     "text": [
      "Tour length: 6234.0\n",
      "Tour length: 6665.0\n",
      "Tour length: 6774.0\n",
      "Tour length: 6991.000000000019\n",
      "Tour length: 7260.0\n",
      "Tour length: 7377.999999999284\n",
      "SOLVED!\n",
      "0; Iter: Time   3.815e-08; average =   3.815e-09; Bound =   3.895e-06\n",
      "0; Iter: Time    4.53e-08; average =    4.53e-09; Bound =   4.625e-06\n",
      "0; Iter: Time   3.338e-08; average =   3.338e-09; Bound =   3.408e-06\n",
      "0; Iter: Time   3.576e-08; average =   3.576e-09; Bound =   3.651e-06\n",
      "0; Iter: Time   3.338e-08; average =   3.338e-09; Bound =   3.408e-06\n",
      "0; Iter: Time   3.815e-08; average =   3.815e-09; Bound =   3.895e-06\n"
     ]
    }
   ],
   "source": [
    "m = Model(HiGHS.Optimizer)\n",
    "set_silent(m)\n",
    "\n",
    "@variable(m, x[cities,cities], Bin)                                       # must formulate as IP this time\n",
    "@constraint(m, c1[j in cities], sum( x[i,j] for i in cities ) == 1)     # one out-edge\n",
    "@constraint(m, c2[i in cities], sum( x[i,j] for j in cities ) == 1)     # one in-edge\n",
    "@constraint(m, c3[i in cities], x[i,i] == 0 )                        # no self-loops\n",
    "@objective(m, Min, sum( x[i,j]*c[i,j] for i in cities, j in cities ))   # minimize total cost\n",
    "\n",
    "sols = []\n",
    "# we'll run the heuristic 30 times and hope we get an optimal solution\n",
    "for iters = 1:6\n",
    "    optimize!(m)\n",
    "    # total  length of current tour\n",
    "    println(\"Tour length: \", objective_value(m))\n",
    "    xx = value.(x) # save solution\n",
    "    sol = NamedArray(zeros(Int,N,N),(cities,cities))\n",
    "    for i in cities\n",
    "        for j in cities\n",
    "            if xx[i,j] > 0.5\n",
    "                sol[i,j] = 1\n",
    "            end\n",
    "        end\n",
    "    end\n",
    "    push!(sols,sol) # save solution\n",
    "    subtours = getAllSubtours(sol)  # get all the subtours\n",
    "    display(subtours) \n",
    "    sleep(1)\n",
    "    # get length of the subtour list\n",
    "    len = length(subtours)\n",
    "    if len == 1                    \n",
    "        # solution is just a single tour!\n",
    "        println(\"SOLVED!\")\n",
    "        break\n",
    "    else\n",
    "        for subtour in subtours\n",
    "            L = length(subtour)\n",
    "            # add constraints that cut off each subtour in the list (add two for each subtour)\n",
    "            @constraint(m, sum( x[subtour[k+1],subtour[k]] for k = 1:L-1 ) <= L-2)\n",
    "            @constraint(m, sum( x[subtour[k],subtour[k+1]] for k = 1:L-1 ) <= L-2)\n",
    "        end\n",
    "    end\n",
    "end"
   ]
  },
  {
   "cell_type": "markdown",
   "metadata": {},
   "source": [
    "![TSP3](plot3.png)\n",
    "\n",
    "## Miller-Tucker-Zemlin formulation"
   ]
  },
  {
   "cell_type": "code",
   "execution_count": 28,
   "metadata": {},
   "outputs": [
    {
     "data": {
      "text/plain": [
       "1-element Vector{Any}:\n",
       " [:ATL, :MIA, :IAH, :LAX, :SFO, :SEA, :DEN, :ORD, :JFK, :DCA, :ATL]"
      ]
     },
     "metadata": {},
     "output_type": "display_data"
    },
    {
     "name": "stdout",
     "output_type": "stream",
     "text": [
      "Tour length: 7378.0\n",
      "0; Iter: Time   3.815e-08; average =   3.815e-09; Bound =   3.895e-06\n"
     ]
    }
   ],
   "source": [
    "m = Model(HiGHS.Optimizer)\n",
    "set_silent(m)\n",
    "\n",
    "@variable(m, x[cities,cities], Bin)                                      # must formulate as IP this time\n",
    "@constraint(m, c1[j in cities], sum( x[i,j] for i in cities ) == 1)      # one out-edge\n",
    "@constraint(m, c2[i in cities], sum( x[i,j] for j in cities ) == 1)      # one in-edge\n",
    "@constraint(m, c3[i in cities], x[i,i] == 0 )                            # no self-loops\n",
    "@objective(m, Min, sum( x[i,j]*c[i,j] for i in cities, j in cities ))   # minimize total cost\n",
    "                                    \n",
    "# MTZ variables and constraints\n",
    "@variable(m, u[cities])\n",
    "@constraint(m, c4[i in cities, j in cities[2:end]], u[i] - u[j] + N*x[i,j] <= N-1 )\n",
    "\n",
    "optimize!(m)\n",
    "xx = value.(x)\n",
    "sol = NamedArray(zeros(Int,N,N),(cities,cities))\n",
    "    for i in cities\n",
    "        for j in cities\n",
    "            if xx[i,j] > 0.5\n",
    "                sol[i,j] = 1\n",
    "            end\n",
    "        end\n",
    "    end\n",
    "subtours = getAllSubtours(sol) \n",
    "display(subtours)\n",
    "println(\"Tour length: \", objective_value(m))"
   ]
  },
  {
   "attachments": {},
   "cell_type": "markdown",
   "metadata": {},
   "source": [
    "![TSP4](plot4.png)\n",
    "\n"
   ]
  }
 ],
 "metadata": {
  "kernelspec": {
   "display_name": "Julia 1.8.3",
   "language": "julia",
   "name": "julia-1.8"
  },
  "language_info": {
   "file_extension": ".jl",
   "mimetype": "application/julia",
   "name": "julia",
   "version": "1.8.3"
  }
 },
 "nbformat": 4,
 "nbformat_minor": 4
}

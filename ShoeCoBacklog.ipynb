{
 "cells": [
  {
   "cell_type": "markdown",
   "metadata": {},
   "source": [
    "# A Multiperiod Planning Example with Backlog -- ShoeCo Revisited"
   ]
  },
  {
   "cell_type": "markdown",
   "metadata": {},
   "source": [
    "ShoeCo needs to plan production for the next 4 months. At the beginning of the first month, ShoeCo has 500 pairs of shoes in inventory. The demand forecast for each of the next 4 months is \n",
    "\n",
    "Month: |    1 |    2 |    3 |    4 |\n",
    " -----:|-----:|-----:|-----:|-----:|\n",
    "Demand:| 3000 | 5000 | 2000 | 1000 |\n",
    "\n",
    "\n",
    "ShoeCo has 100 workers currently employed who work 160 hours/month. Each worker is paid \\\\$1500/month. They can also work overtime for up to 20 hours/worker each month. Overtime is paid at \\\\$13/hour.  ShoeCo can choose to hire a new worker for \\\\$1600 or fire a worker for \\\\$2000. To produce a pair of shoes, 4 hours of labor and \\\\$15 of raw materials are required. ShoeCo must meet demand by the end of the 4 months and must pay \\\\$3 for every pair of shoes in inventory at the end of each month. ShoeCo must also pay \\\\$20 for any demand that is backlogged each month. How should ShoeCo produce for the next 4 months if they are trying to minimize their total costs?"
   ]
  },
  {
   "cell_type": "markdown",
   "metadata": {},
   "source": [
    "## Model and Solution in Julia"
   ]
  },
  {
   "cell_type": "code",
   "execution_count": null,
   "metadata": {},
   "outputs": [],
   "source": [
    "using JuMP, Clp\n",
    "\n",
    "d = [3000 5000 2000 1000] # monthly shoe demand\n",
    " \n",
    "m = Model(Clp.Optimizer)\n",
    "\n",
    "@variable(m, x[1:4] >= 0 ) # shoes produced in month t=1,2,3,4\n",
    "@variable(m, w[1:4] >= 0 ) # workers employed in month t=1,2,3,4\n",
    "@variable(m, o[1:4] >= 0 ) # overtime hours in month t=1,2,3,4\n",
    "@variable(m, h[1:4] >= 0 ) # workers hired in month t=1,2,3,4\n",
    "@variable(m, f[1:4] >= 0 ) # workers fired in month t=1,2,3,4\n",
    "@variable(m, i[1:4] ) # shoes in inventory in month t=1,2,3,4 (can be negative)\n",
    "@variable(m, L[1:4] >= 0 ) # shoes leftover in month t=1,2,3,4\n",
    "@variable(m, S[1:4] >= 0 ) # shoes backlogged in month t=1,2,3,4\n",
    "\n",
    "# our objective is to minimize the total cost\n",
    "@objective(m, Min, 15*sum(x) + 16*sum(o) + 1600*sum(h) + 2000*sum(f)\n",
    "    + 1500*sum(w) + 3*sum(L) + 20*sum(S))\n",
    "\n",
    "# constraint on how many total hours are available for shoe production\n",
    "@constraint(m, production[t in 1:4], 4*x[t] <= 160*w[t] + o[t])\n",
    "# overtime cannot be greater than 20*# workers in each month\n",
    "@constraint(m, overtime[t in 1:4], o[t] <= 20*w[t])\n",
    "\n",
    "# include a constraint that requires inventory to be the difference\n",
    "# between leftovers and shortage each month\n",
    "@constraint(m, inv_ident[t in 1:4], i[t] == L[t] - S[t])\n",
    "@constraint(m, i[4] >= 0) # enforce that all demand is met eventually\n",
    " \n",
    "# INVENTORY BALANCE #\n",
    "# amount we start with + amount we produce = amount we sell + amount that carries to next month\n",
    "\n",
    "# balance inventory in the first month \n",
    "@constraint(m, inv_bal_init, 500 + x[1] == d[1] + i[1])\n",
    "# balance inventory for all months after the first\n",
    "@constraint(m, inv_bal[t in 2:4], i[t-1] + x[t] == d[t] + i[t])\n",
    "\n",
    "# WORKER BALANCE #\n",
    "# number currently employed - number fired + number hired = number workers available\n",
    "\n",
    "# balance workers in first month\n",
    "@constraint(m, work_bal_init, 100 - f[1] + h[1] == w[1])\n",
    "# balance workers in all months after the first\n",
    "@constraint(m, work_bal[t in 2:4], w[t-1] - f[t] + h[t] == w[t])\n",
    "\n",
    "# solve this instance of ShoeCo and print relevant solution details\n",
    "optimize!(m)\n",
    "\n",
    "# note we use the Array function to turn the list of solution values into an Array.\n",
    "# this helps with solution legibility.\n",
    "println(\"Build \", Array(value.(x')), \" shoes each month\")\n",
    "println(\"Use \", Array(value.(w')), \" workers each month\")\n",
    "println(\"Use \", Array(value.(o')), \" overtime hours each month\")\n",
    "println(\"Inventory: \", Array(value.(i')))\n",
    "println(\"Backlog: \", Array(value.(S')))\n",
    "println(\"Cost: \", objective_value(m))"
   ]
  },
  {
   "cell_type": "code",
   "execution_count": null,
   "metadata": {},
   "outputs": [],
   "source": []
  }
 ],
 "metadata": {
  "kernelspec": {
   "display_name": "Julia 1.7.3",
   "language": "julia",
   "name": "julia-1.7"
  },
  "language_info": {
   "file_extension": ".jl",
   "mimetype": "application/julia",
   "name": "julia",
   "version": "1.7.3"
  }
 },
 "nbformat": 4,
 "nbformat_minor": 4
}

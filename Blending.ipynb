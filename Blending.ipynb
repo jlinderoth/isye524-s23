{
 "cells": [
  {
   "cell_type": "code",
   "execution_count": 2,
   "metadata": {},
   "outputs": [
    {
     "name": "stdout",
     "output_type": "stream",
     "text": [
      "Max profit: 310000.0\n",
      "Advertise for gas2 : 9000.0\n"
     ]
    }
   ],
   "source": [
    "using NamedArrays\n",
    "Gases = [:gas1, :gas2, :gas3]\n",
    "\n",
    "min_octane = Dict(zip(Gases,[10,8,6]))\n",
    "max_sulfer = Dict(zip(Gases,[1,2,1]))\n",
    "gas_price = Dict(zip(Gases,[70,60,50]))\n",
    "gas_nom_demand = Dict(zip(Gases,[3000,2000,1000]))\n",
    "\n",
    "Crudes = [:crude1, :crude2, :crude3]\n",
    "crude_price = Dict(zip(Crudes,[45,35,25]))\n",
    "octane = Dict(zip(Crudes,[12,6,8]))\n",
    "sulfer = Dict(zip(Crudes,[0.5,2.0,3.0]))\n",
    "\n",
    "max_crude_available = 5000\n",
    "max_crude_processed = 14000\n",
    "processing_cost = 4\n",
    "advertising_inc = 10\n",
    "\n",
    "using JuMP, HiGHS\n",
    "m = Model(HiGHS.Optimizer)\n",
    "set_silent(m)\n",
    "\n",
    "@variable(m, y[Crudes] >= 0)\n",
    "@variable(m, z[Gases] >= 0)\n",
    "@variable(m, x[Crudes,Gases] >= 0)\n",
    "@variable(m, a[Gases] >= 0)\n",
    "\n",
    "# Let's make the objective with expressions\n",
    "@expression(m, revenue, sum(gas_price[j]*z[j] for j in Gases))\n",
    "@expression(m, crude_cost, sum(crude_price[i]*y[i] for i in Crudes))\n",
    "@expression(m, production_cost, 4*sum(y[i] for i in Crudes))\n",
    "@expression(m, advertising_costs, sum(a[j] for j in Gases))\n",
    "@objective(m, Max, revenue - crude_cost - production_cost - advertising_costs)\n",
    "\n",
    "# Be sure to define y in terms of x\n",
    "@constraint(m, [i in Crudes], sum(x[i,j] for j in Gases) == y[i])\n",
    "\n",
    "# Be sure to define z in terms of x\n",
    "@constraint(m, [j in Gases], sum(x[i,j] for i in Crudes) == z[j])\n",
    "\n",
    "\n",
    "# Individual crude maximum \n",
    "@constraint(m, [i in Crudes], y[i] <= max_crude_available)\n",
    "\n",
    "# Total crude processing\n",
    "@constraint(m, sum(y[i] for i in Crudes) <= max_crude_processed)\n",
    "\n",
    "# Demand\n",
    "@constraint(m, [j in Gases], z[j] <= gas_nom_demand[j] + a[j])\n",
    "\n",
    "# Min average octane\n",
    "@constraint(m, [j in Gases], sum(octane[i]*x[i,j] for i in Crudes) >= min_octane[j]*z[j])\n",
    "\n",
    "# Max average sulfer\n",
    "@constraint(m, [j in Gases], sum(sulfer[i]*x[i,j] for i in Crudes) <= max_sulfer[j]*z[j])\n",
    "\n",
    "optimize!(m)\n",
    "println(\"Max profit: \", objective_value(m))\n",
    "for j in Gases\n",
    "    if value(a[j]) > 0.001\n",
    "        println(\"Advertise for \", j, \" : \", value(a[j]))\n",
    "    end\n",
    "end\n",
    "\n",
    "\n",
    "\n",
    "\n"
   ]
  }
 ],
 "metadata": {
  "kernelspec": {
   "display_name": "Julia 1.8.3",
   "language": "julia",
   "name": "julia-1.8"
  },
  "language_info": {
   "file_extension": ".jl",
   "mimetype": "application/julia",
   "name": "julia",
   "version": "1.8.3"
  }
 },
 "nbformat": 4,
 "nbformat_minor": 2
}

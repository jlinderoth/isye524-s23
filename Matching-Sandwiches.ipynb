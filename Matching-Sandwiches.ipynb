{
 "cells": [
  {
   "cell_type": "markdown",
   "metadata": {},
   "source": [
    "# Assigning children to sandwiches\n",
    "\n",
    "A mother needs to assign each of her 5 children to 5 different sandwiches. Each child has given a preference for each sandwich by rating it from 0 to 10 (0 indicates strong dislike and 10 indicates strong preference). The mother wishes to assign sandwiches in such a way as to maximize the overall satisfaction. The preferences of the children are as follows:\n",
    "\n",
    "|Sandwich| Akhil | Brianna | Carlos | Dinah | Edward |\n",
    "|-------:|------:|--------:|-------:|------:|-------:|\n",
    "|  PB&J   | 2     |   9     |  1     | 9     | 6      |  \n",
    "| Turkey | 9     |   0     |  5     | 5     | 8      |  \n",
    "|  Ham   | 7     |   0     |  10    | 2     | 6      |\n",
    "| Veggie | 0     |   9     |  8     | 1     | 7      |\n",
    "| Tuna   | 4     |   1     |  4     | 0     | 4      |\n"
   ]
  },
  {
   "cell_type": "code",
   "execution_count": null,
   "metadata": {},
   "outputs": [],
   "source": [
    "using JuMP, Clp, NamedArrays\n",
    "\n",
    "# create the index sets (sandwich types, children)\n",
    "sandwiches = [ :PBJ, :Turkey, :Ham, :Veggie, :Tuna ]\n",
    "kids = [ :Akhil, :Brianna, :Carlos, :Dinah, :Edward ]\n",
    "\n",
    "# create the input matrix for a NamedArray that is indexed by sandwiches (rows)\n",
    "# and children (columns) with elements showing the preferences\n",
    "prefs = [ 2 9 1 9 6\n",
    "        9 0 5 5 8\n",
    "        7 0 10 2 6\n",
    "        0 9 8 1 7\n",
    "        4 1 4 0 4]\n",
    "\n",
    "# create a NamedArray showing each child's sandwich preferences\n",
    "preferences = NamedArray( prefs, (sandwiches,kids), (\"sandwich\",\"kid\"))\n",
    "\n",
    "m = Model(Clp.Optimizer)\n",
    "\n",
    "# variable for assigning each sandwich to a child\n",
    "# NOTE: This is just a normal variable! We don't need to specify \"binary\"\n",
    "# in this case. We'll see why soon.\n",
    "@variable(m, x[sandwiches,kids] >= 0)\n",
    "\n",
    "# each kid gets exactly 1 sandwich\n",
    "@constraint(m, a[j in kids], sum(x[i,j] for i in sandwiches) == 1 )\n",
    "\n",
    "# each sandwich gets assigned to one kid\n",
    "@constraint(m, b[i in sandwiches], sum(x[i,j] for j in kids) == 1 )\n",
    "\n",
    "# maximize overall preference\n",
    "@objective(m, Max, sum( x[i,j]*preferences[i,j] for i in sandwiches, j in kids ) )\n",
    "\n",
    "optimize!(m)\n",
    "\n",
    "# we can print the solution to a NamedArray for ease of understanding\n",
    "assignment = NamedArray( [ (value(x[i,j])) for i in sandwiches, j in kids ], (sandwiches, kids), (\"sandwich\",\"kid\"))\n",
    "\n"
   ]
  },
  {
   "cell_type": "markdown",
   "metadata": {},
   "source": [
    "Notice that even though we didn't tell the variable it had to be binary, it is in the solution! Hmm....\n",
    "\n",
    "Interesting side-note: Being near the middle on all the rankings caused Edward to end up with his least-favorite sandwich! Let's see what happens if he changes his ratings to be more extreme:\n",
    "\n",
    "|Sandwich| Akhil | Brianna | Carlos | Dinah | Edward |\n",
    "|-------:|------:|--------:|-------:|------:|-------:|\n",
    "|  PB&J   | 2     |   9     |  1     | 9     | 6      |  \n",
    "| Turkey | 9     |   0     |  5     | 5     | 9      |  \n",
    "|  Ham   | 7     |   0     |  10    | 2     | 6      |\n",
    "| Veggie | 0     |   9     |  8     | 1     | 7      |\n",
    "| Tuna   | 4     |   1     |  4     | 0     | 3      |"
   ]
  },
  {
   "cell_type": "code",
   "execution_count": null,
   "metadata": {},
   "outputs": [],
   "source": [
    "prefs = [ 2 9 1 9 6\n",
    "        9 0 5 5 9\n",
    "        7 0 10 2 6\n",
    "        0 9 8 1 7\n",
    "        4 1 4 0 3]\n",
    "\n",
    "preferences = NamedArray( prefs, (sandwiches,kids), (\"sandwich\",\"kid\"))\n",
    "\n",
    "m = Model(Clp.Optimizer)\n",
    "\n",
    "# NOTE: This is just a normal variable! We don't need to specify \"binary\"\n",
    "# in this case. We'll see why soon.\n",
    "@variable(m, x[sandwiches,kids] >= 0)\n",
    "\n",
    "# each kid gets exactly 1 sandwich\n",
    "@constraint(m, a[j in kids], sum(x[i,j] for i in sandwiches) == 1 )\n",
    "\n",
    "# each sandwich gets assigned to one kid\n",
    "@constraint(m, b[i in sandwiches], sum(x[i,j] for j in kids) == 1 )\n",
    "\n",
    "@objective(m, Max, sum( x[i,j]*preferences[i,j] for i in sandwiches, j in kids ) )\n",
    "\n",
    "optimize!(m)\n",
    "\n",
    "assignment = NamedArray( [ (value(x[i,j])) for i in sandwiches, j in kids ], (sandwiches, kids), (\"sandwich\",\"kid\"))"
   ]
  },
  {
   "cell_type": "code",
   "execution_count": null,
   "metadata": {},
   "outputs": [],
   "source": []
  }
 ],
 "metadata": {
  "kernelspec": {
   "display_name": "Julia 1.7.3",
   "language": "julia",
   "name": "julia-1.7"
  },
  "language_info": {
   "file_extension": ".jl",
   "mimetype": "application/julia",
   "name": "julia",
   "version": "1.7.3"
  }
 },
 "nbformat": 4,
 "nbformat_minor": 4
}

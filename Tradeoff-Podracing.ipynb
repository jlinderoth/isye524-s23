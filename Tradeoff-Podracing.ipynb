{
 "cells": [
  {
   "cell_type": "markdown",
   "metadata": {},
   "source": [
    "# Tradeoff Problem Example: Podracing\n",
    "\n",
    "We are entered in the race of the century! Just like Anakin Skywalker, we built our own podracer and are about to begin the race. The official informs us that there are certain “checkpoints” that we need to hit. Our goal is to save as much fuel as possible so we don’t run out during the race.\n",
    "\n",
    "Before we start the race, we must figure out the appropriate thruster burns at each instant.\n",
    " * We’ll (approximately) model thrust as a 2D vector containing info on direction change\n",
    " * Amount of fuel we consume when we use thrusters is calculated as $L_2$ norm of thrust vector\n",
    " * Suppose the officials aren’t watching the checkpoints very closely, so long as we “sort of” hit the checkpoints we’ll be okay"
   ]
  },
  {
   "cell_type": "code",
   "execution_count": null,
   "metadata": {},
   "outputs": [],
   "source": [
    "using JuMP, HiGHS\n",
    "\n",
    "k = 4              # number of checkpoints\n",
    "T = zeros(Int,k)   # vector of timepoints\n",
    "xw = zeros(2,k)    # vector of checkpoint locations\n",
    "\n",
    "# times at which we must hit checkpoints\n",
    "T[1] = 1\n",
    "T[2] = 20\n",
    "T[3] = 50\n",
    "T[4] = 60\n",
    "\n",
    "# define checkpoints' x and y coords\n",
    "way_xy = [ 1   4   6   1\n",
    "           1   3   0   1 ]\n",
    "\n",
    "# create a function that takes a value for λ then solves and reports solution of tradeoff problem\n",
    "function solveOpt(λ)\n",
    "    \n",
    "    m = Model(HiGHS.Optimizer) # need Gurobi since it's nonlinear\n",
    "    set_silent(m)\n",
    "    @variable(m, x[1:2,1:T[k]])  # position at each time\n",
    "    @variable(m, v[1:2,1:T[k]])  # velocity at each time\n",
    "    @variable(m, u[1:2,1:T[k]])  # thruster input at each time\n",
    "\n",
    "    # satisfy the dynamics (with zero initial velocity)\n",
    "    @constraint(m, v[:,1] .== [0;0])\n",
    "    @constraint(m, x[:,1] .== [1;1])\n",
    "    # model system dynamics\n",
    "    for t in 1:T[k]-1\n",
    "        @constraint(m, x[:,t+1] .== x[:,t] + v[:,t])\n",
    "        @constraint(m, v[:,t+1] .== v[:,t] + u[:,t])\n",
    "    end\n",
    "\n",
    "    ### COMMENT AND UNCOMMENT DEPENDING ON WHETHER CHECKPOINTS ARE CONSTRAINTS ###\n",
    "    # hit all the checkpoints\n",
    "#     for i in 1:k\n",
    "#         @constraint(m, x[:,T[i]] .== way_xy[:,i])\n",
    "#     end\n",
    "\n",
    "    # hit the first checkpoint only\n",
    "     for i in 1\n",
    "         @constraint(m, x[:,T[i]] .== way_xy[:,i])\n",
    "     end\n",
    "    \n",
    "    # minimize 2-norm (THIS IS LEAST-SQUARES)\n",
    "    @objective(m, Min, sum(u.^2) + λ*sum( (x[:,T]-way_xy).^2 ) )\n",
    "    optimize!(m)\n",
    "    y1 = value(sum(u.^2))\n",
    "    y2 = value(sum( (x[:,T]-way_xy).^2  ))\n",
    "    xopt = value.(x)\n",
    "    \n",
    "    return (y1,y2,xopt)\n",
    "end\n",
    ";"
   ]
  },
  {
   "cell_type": "markdown",
   "metadata": {},
   "source": [
    "## Plot Model Output\n",
    "\n",
    "We can visualize our solution by plotting the output below:\n"
   ]
  },
  {
   "cell_type": "code",
   "execution_count": null,
   "metadata": {},
   "outputs": [],
   "source": [
    "\n",
    "λ = 0.01 # choose a value for λ\n",
    "(y1x,y2x,x) = solveOpt(λ) # solve model with given λ\n",
    "\n",
    "# plot the solution against the checkpoints\n",
    "using PyPlot\n",
    "figure(figsize=(12,4))\n",
    "plot( x[1,:], x[2,:], \"b.-\", markersize=4 )\n",
    "plot( x[1,:][T], x[2,:][T], \"b.\", markersize=12 )\n",
    "plot( way_xy[1,:], way_xy[2,:], \"r.\", markersize=12 )\n",
    "axis(\"equal\")\n",
    "axis((1.,8.,-.5,3.5));\n",
    "# Only need this in vscode?\n",
    "display(gcf())"
   ]
  },
  {
   "cell_type": "markdown",
   "metadata": {},
   "source": [
    "## Compute tradeoff curve\n",
    "\n",
    "Now let's compute the Pareto curve for many values of $\\lambda$"
   ]
  },
  {
   "cell_type": "code",
   "execution_count": null,
   "metadata": {},
   "outputs": [],
   "source": [
    "Npts = 30\n",
    "y1 = zeros(Npts)\n",
    "y2 = zeros(Npts)\n",
    "println(10 .^(range(-5,stop=1,length=Npts)))\n",
    "for (i,λ) in enumerate(10 .^(range(-5,stop=1,length=Npts)))\n",
    "    (y1[i],y2[i],uu) = solveOpt(λ)\n",
    "end;\n",
    "\n",
    "# plot the points\n",
    "using PyPlot\n",
    "figure(figsize=(8,4))\n",
    "plot( y1, y2, \"b.-\" )\n",
    "xlabel(L\"y_1\\, (\\sf fuel\\, cost)\")\n",
    "ylabel(L\"y_2\\, (\\sf waypoint\\, mismatch)\");\n",
    "title(\"Pareto curve for the podracing problem\")\n",
    "grid()\n",
    "display(gcf())"
   ]
  },
  {
   "cell_type": "code",
   "execution_count": null,
   "metadata": {},
   "outputs": [],
   "source": []
  }
 ],
 "metadata": {
  "kernelspec": {
   "display_name": "Julia 1.8.3",
   "language": "julia",
   "name": "julia-1.8"
  },
  "language_info": {
   "file_extension": ".jl",
   "mimetype": "application/julia",
   "name": "julia",
   "version": "1.8.3"
  }
 },
 "nbformat": 4,
 "nbformat_minor": 4
}

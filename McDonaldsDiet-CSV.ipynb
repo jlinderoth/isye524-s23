{
 "cells": [
  {
   "attachments": {},
   "cell_type": "markdown",
   "metadata": {},
   "source": [
    "# McDonalds Diet Problem\n",
    "\n",
    "In this notebook, we will determine the minimum cost McDonalds diet"
   ]
  },
  {
   "attachments": {},
   "cell_type": "markdown",
   "metadata": {},
   "source": [
    "Let's show how to read it from a spreadsheet\n",
    "(mcdonalds.csv)\n",
    "\n",
    "You need to take the mcdonalds.csv file in order to use this.\n",
    "\n",
    "DataFrames is like Pandas in Python: https://dataframes.juliadata.org/stable/\n"
   ]
  },
  {
   "cell_type": "code",
   "execution_count": 3,
   "metadata": {},
   "outputs": [],
   "source": [
    "using DataFrames, CSV, NamedArrays\n",
    "df = CSV.read(\"mcdonalds.csv\", DataFrame, delim =',') \n",
    "\n",
    "# Foods are column names starting at the 3rd\n",
    "foods = propertynames(df)[3:end]\n",
    "\n",
    "# Nutrients are the first column starting at the second row\n",
    "nutrients = convert(Array, df[2:end,1])\n",
    "\n",
    "# Cost\n",
    "cost = Dict(zip(foods,df[1,3:end]))\n",
    "\n",
    "required = Dict(zip(nutrients,df[2:end,2]))\n",
    "\n",
    "# Matrix of data \n",
    "A = Matrix(df[2:end,3:end])\n",
    "\n",
    "A_NA = NamedArray(A, (nutrients,foods), (\"Nutrients\", \"Foods\")) ;\n",
    "\n"
   ]
  },
  {
   "cell_type": "code",
   "execution_count": 5,
   "metadata": {},
   "outputs": [
    {
     "name": "stdout",
     "output_type": "stream",
     "text": [
      "Minimum cost menu $14.86: \n",
      "Eat 4.39 of menu item Symbol(\"Quarter Pounder\")\n",
      "Eat 6.15 of menu item Symbol(\"Small Fries\")\n",
      "Eat 3.42 of menu item Symbol(\"1% Milk\")\n"
     ]
    }
   ],
   "source": [
    "using JuMP, HiGHS\n",
    "m = Model(HiGHS.Optimizer)\n",
    "@variable(m, x[foods] >= 0)\n",
    "@objective(m, Min, sum(cost[j]*x[j] for j in foods))\n",
    "@constraint(m, [i in nutrients], sum(A_NA[i,j]*x[j] for j in foods) >= required[i])\n",
    "\n",
    "# If you don't want the solver output, you can try this\n",
    "set_silent(m)\n",
    "optimize!(m)\n",
    "\n",
    "using Formatting\n",
    "printfmtln(\"Minimum cost menu \\${:.2f}: \", objective_value(m))\n",
    "for j in foods\n",
    "    if value(x[j]) > 1.0e-6\n",
    "        printfmtln(\"Eat {1:.2f} of menu item {2}\", value(x[j]), j)\n",
    "    end\n",
    "end"
   ]
  }
 ],
 "metadata": {
  "kernelspec": {
   "display_name": "Julia 1.8.3",
   "language": "julia",
   "name": "julia-1.8"
  },
  "language_info": {
   "file_extension": ".jl",
   "mimetype": "application/julia",
   "name": "julia",
   "version": "1.8.3"
  },
  "orig_nbformat": 4
 },
 "nbformat": 4,
 "nbformat_minor": 2
}

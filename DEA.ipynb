{
 "cells": [
  {
   "attachments": {},
   "cell_type": "markdown",
   "metadata": {},
   "source": [
    "# Data Envelopment Analysis"
   ]
  },
  {
   "cell_type": "code",
   "execution_count": 1,
   "metadata": {},
   "outputs": [
    {
     "name": "stdout",
     "output_type": "stream",
     "text": [
      "plant1 has efficiency 1.0\n",
      "plant2 has efficiency 0.7733333333333334\n",
      "plant3 has efficiency 1.0\n"
     ]
    }
   ],
   "source": [
    "Inputs = [:labor, :uranium]\n",
    "Outputs = [:energy, :plutonium, :three_eyed_fish]\n",
    "Units = [:plant1, :plant2, :plant3]\n",
    "\n",
    "using NamedArrays\n",
    "Unit_Input = [\n",
    "    5 14\n",
    "    8 15\n",
    "    7 12\n",
    "]\n",
    "UI = NamedArray(Unit_Input, (Units,Inputs),(\"Units\",\"Inputs\"))\n",
    "Unit_Output = [\n",
    "    9 4 16\n",
    "    5 7 10\n",
    "    4 9 13\n",
    "]\n",
    "UO = NamedArray(Unit_Output, (Units,Outputs),(\"Units\",\"Outputs\"))\n",
    "\n",
    "using JuMP, HiGHS\n",
    "m = Model(HiGHS.Optimizer)\n",
    "set_silent(m)\n",
    "\n",
    "@variable(m, w[Inputs] >= 0)\n",
    "@variable(m, t[Outputs] >= 0)\n",
    "\n",
    "\n",
    "@expression(m, output_val[u in Units], sum(UO[u,j]*t[j] for j in Outputs))\n",
    "\n",
    "@expression(m, input_val[u in Units], sum(UI[u,i]*w[i] for i in Inputs))\n",
    "\n",
    "@constraint(m, [u in Units], output_val[u] - input_val[u] <= 0)\n",
    "\n",
    "# Solve an optimization model for each unit to determine if it is efficient\n",
    "for u in Units\n",
    "    @objective(m, Max, output_val[u])\n",
    "    @constraint(m, input_scaling, input_val[u] == 1)\n",
    "    optimize!(m)\n",
    "    println(u, \" has efficiency \", objective_value(m))\n",
    "    delete(m, input_scaling)\n",
    "    unregister(m, :input_scaling)\n",
    "end\n",
    "\n",
    "\n"
   ]
  }
 ],
 "metadata": {
  "kernelspec": {
   "display_name": "Julia 1.8.3",
   "language": "julia",
   "name": "julia-1.8"
  },
  "language_info": {
   "file_extension": ".jl",
   "mimetype": "application/julia",
   "name": "julia",
   "version": "1.8.3"
  }
 },
 "nbformat": 4,
 "nbformat_minor": 2
}

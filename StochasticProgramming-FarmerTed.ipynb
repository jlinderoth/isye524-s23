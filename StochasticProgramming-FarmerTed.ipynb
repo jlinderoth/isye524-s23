{
 "cells": [
  {
   "cell_type": "markdown",
   "metadata": {},
   "source": [
    "# Farmer Ted -- A Stochastic Programming Example\n",
    "\n",
    "Farmer Ted can plant corn, wheat, and beans on his 500 acres. He requires 200 tons of wheat and 240 tons of corn for his cattle. Wheat and corn can be grown on his own land or bought from a wholesaler. Any excess production can be sold for \\\\$170/ton for wheat and \\\\$150/ton for corn. Any shortfall must be bought from the wholesaler at a cost of \\\\$238/ton for wheat and \\\\$210/ton for corn. Farmer Ted can also grow beans. Beans sell at \\\\$36/ton for the first 6000 tons. Due to economic quotas on bean production, beans in excess of 6000 tons can only be sold at \\\\$10/ton.\n",
    "\n",
    "The following table contains the relevant data for the problem:\n",
    "\n",
    "|                     | Wheat | Corn | Beans          |\n",
    "|---------------------|-------|------|----------------|\n",
    "| Yield (T/acre)      | 2.5   | 3    | 20             |\n",
    "| Plant cost ($/acre) | 150   | 230  | 260            |\n",
    "| Sell price          | 170   | 150  | 36 (<= 6000T)  |\n",
    "|                     |       |      | 10 (> 6000T)   |\n",
    "| Purchase price      | 238   | 210  | N/A            |\n",
    "| Minimum required    | 200   | 240  | N/A            |"
   ]
  },
  {
   "cell_type": "markdown",
   "metadata": {},
   "source": [
    "## Linear programming model"
   ]
  },
  {
   "cell_type": "code",
   "execution_count": 1,
   "metadata": {},
   "outputs": [
    {
     "name": "stdout",
     "output_type": "stream",
     "text": [
      "Plant: 1-dimensional DenseAxisArray{Float64,1,...} with index sets:"
     ]
    },
    {
     "name": "stdout",
     "output_type": "stream",
     "text": [
      "\n",
      "    Dimension 1, [\"W\", \"C\", \"B\"]\n",
      "And data, a 3-element Vector{Float64}:\n",
      " 120.0\n",
      "  80.0\n",
      " 300.0\n",
      "Buy: 1-dimensional DenseAxisArray{Float64,1,...} with index sets:\n",
      "    Dimension 1, [\"W\", \"C\"]\n",
      "And data, a 2-element Vector{Float64}:\n",
      " 0.0\n",
      " 0.0\n",
      "Sell (normal price): 1-dimensional DenseAxisArray{Float64,1,...} with index sets:\n",
      "    Dimension 1, [\"W\", \"C\", \"B\"]\n",
      "And data, a 3-element Vector{Float64}:\n",
      "  100.0\n",
      "    0.0\n",
      " 6000.0\n",
      "Sell beans (lower price): "
     ]
    },
    {
     "name": "stdout",
     "output_type": "stream",
     "text": [
      "0.0\n"
     ]
    },
    {
     "name": "stdout",
     "output_type": "stream",
     "text": [
      "Profit: 118600.0\n"
     ]
    }
   ],
   "source": [
    "prod = [\"W\",\"C\",\"B\"]\n",
    "yield = Dict(zip(prod,[2.5 3 20]))\n",
    "cost = Dict(zip(prod,[150 230 260]))\n",
    "sell_price = Dict(zip(prod,[170 150 36]))\n",
    "bean_price_low = 10\n",
    "\n",
    "using JuMP, HiGHS\n",
    "\n",
    "m = Model(HiGHS.Optimizer)\n",
    "set_silent(m)\n",
    "\n",
    "@variable(m, x[prod] >= 0)\n",
    "@variable(m, w[prod] >= 0)\n",
    "@variable(m, y[prod[1:2]] >= 0)\n",
    "@variable(m, e >= 0)\n",
    "\n",
    "@objective(m, Max, -sum(cost[i]*x[i] for i in prod) - \n",
    "    238y[\"W\"] - 210y[\"C\"] + \n",
    "    sum(sell_price[i]*w[i] for i in prod) +\n",
    "    bean_price_low*e)\n",
    "\n",
    "\n",
    "@constraint(m, sum(x) <= 500)\n",
    "@constraint(m, 2.5x[\"W\"]  + y[\"W\"] - w[\"W\"] == 200)\n",
    "@constraint(m, 3x[\"C\"]  + y[\"C\"] - w[\"C\"] == 240)\n",
    "@constraint(m, 20x[\"B\"] - w[\"B\"] - e == 0)\n",
    "@constraint(m, w[\"B\"] <= 6000)\n",
    "\n",
    "optimize!(m)\n",
    "\n",
    "println(\"Plant: \", value.(x))\n",
    "println(\"Buy: \", value.(y))\n",
    "println(\"Sell (normal price): \", value.(w))\n",
    "println(\"Sell beans (lower price): \", value.(e))\n",
    "println(\"Profit: \", objective_value(m))\n"
   ]
  },
  {
   "cell_type": "markdown",
   "metadata": {},
   "source": [
    "## Stochastic Programming model"
   ]
  },
  {
   "cell_type": "code",
   "execution_count": 2,
   "metadata": {},
   "outputs": [
    {
     "name": "stdout",
     "output_type": "stream",
     "text": [
      "Plant: 1-dimensional DenseAxisArray{Float64,1,...} with index sets:\n",
      "    Dimension 1, [\"W\", \"C\", \"B\"]\n",
      "And data, a 3-element Vector{Float64}:\n",
      " 170.0\n",
      "  80.00000000000001\n",
      " 250.0\n",
      "Buy: "
     ]
    },
    {
     "name": "stdout",
     "output_type": "stream",
     "text": [
      "2-dimensional DenseAxisArray{Float64,2,...} with index sets:\n",
      "    Dimension 1, [\"W\", \"C\"]\n",
      "    Dimension 2, [1, 2, 3]\n",
      "And data, a 2×3 Matrix{Float64}:\n",
      " 0.0  0.0   0.0\n",
      " 0.0  0.0  47.99999999999995\n",
      "Sell (normal price): 2-dimensional DenseAxisArray{Float64,2,...} with index sets:\n",
      "    Dimension 1, [\"W\", \"C\", \"B\"]\n",
      "    Dimension 2, [1, 2, 3]\n",
      "And data, a 3×3 Matrix{Float64}:\n",
      "  310.0                225.00000000000006   140.00000000000006\n",
      "   47.99999999999996     0.0                  0.0\n",
      " 6000.0               5000.0               4000.0\n",
      "Sell beans (lower price): "
     ]
    },
    {
     "name": "stdout",
     "output_type": "stream",
     "text": [
      "1-dimensional DenseAxisArray{Float64,1,...} with index sets:\n",
      "    Dimension 1, [1, 2, 3]\n",
      "And data, a 3-element Vector{Float64}:\n",
      " 0.0\n",
      " 0.0\n",
      " 0.0\n",
      "Profit: 108390.0\n"
     ]
    }
   ],
   "source": [
    "scen = [1,2,3]\n",
    "yield_frac = Dict(zip(scen, [1.2 1 0.8]))\n",
    "\n",
    "m = Model(Clp.Optimizer)\n",
    "set_optimizer_attribute(m,\"LogLevel\",0)\n",
    "\n",
    "@variable(m, x[prod] >= 0)\n",
    "@variable(m, w[prod,scen] >= 0)\n",
    "@variable(m, y[prod[1:2],scen] >= 0)\n",
    "@variable(m, e[scen] >= 0)\n",
    "\n",
    "@objective(m, Max, -sum(cost[i]*x[i] for i in prod) +\n",
    "    (1/3)*sum(-238y[\"W\",s] - 210y[\"C\",s] + \n",
    "    sum(sell_price[i]*w[i,s] for i in prod) +\n",
    "    bean_price_low*e[s] for s in scen))\n",
    "\n",
    "@constraint(m, sum(x) <= 500)\n",
    "@constraint(m, wheat[s in scen], yield_frac[s]*2.5*x[\"W\"]  + y[\"W\",s] - w[\"W\",s] == 200)\n",
    "@constraint(m, corn[s in scen], yield_frac[s]*3*x[\"C\"]  + y[\"C\",s] - w[\"C\",s] == 240)\n",
    "@constraint(m, bean[s in scen], yield_frac[s]*20*x[\"B\"] - w[\"B\",s] - e[s] == 0)\n",
    "@constraint(m, bean_bound[s in scen], w[\"B\",s] <= 6000)\n",
    "\n",
    "optimize!(m)\n",
    "\n",
    "println(\"Plant: \", value.(x))\n",
    "println(\"Buy: \", value.(y))\n",
    "println(\"Sell (normal price): \", value.(w))\n",
    "println(\"Sell beans (lower price): \", value.(e))\n",
    "println(\"Profit: \", objective_value(m))\n",
    "\n"
   ]
  },
  {
   "cell_type": "code",
   "execution_count": 3,
   "metadata": {},
   "outputs": [],
   "source": []
  }
 ],
 "metadata": {
  "kernelspec": {
   "display_name": "Julia 1.8.3",
   "language": "julia",
   "name": "julia-1.8"
  },
  "language_info": {
   "file_extension": ".jl",
   "mimetype": "application/julia",
   "name": "julia",
   "version": "1.8.3"
  }
 },
 "nbformat": 4,
 "nbformat_minor": 4
}

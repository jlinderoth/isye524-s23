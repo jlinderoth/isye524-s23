{
 "cells": [
  {
   "cell_type": "markdown",
   "metadata": {},
   "source": [
    "# Putting Jedi Masters in the Training Rooms - A QAP Example\n",
    "\n",
    "The Jedi Temple on Dantooine is building 4 training rooms  (1, 2, 3, 4) for Padawans. There is a walking distance (in feet) between all pairs of rooms ($d_{ij}$) Jedi Masters (Asnar, Bendak, Chorla, Duzek) need to be assigned to one of the 4 rooms. Make assignment so Padawans travelling between rooms don’t need to walk too far. We know how many Padawans will need to travel between each pair of Jedi Masters ($f_{ij}$).\n"
   ]
  },
  {
   "cell_type": "code",
   "execution_count": 7,
   "metadata": {},
   "outputs": [
    {
     "name": "stdout",
     "output_type": "stream",
     "text": [
      "4×4 Named Matrix{Int64}\n",
      "Master ╲ Room │ 1  2  3  4\n",
      "──────────────┼───────────\n",
      ":A            │ 1  0  0  0\n",
      ":B            │ 0  0  0  1\n",
      ":C            │ 0  0  1  0\n",
      ":D            │ 0  1  0  0\n",
      "0; Iter: Time   2.146e-08; average =   2.146e-09; Bound =   2.165e-06\n"
     ]
    }
   ],
   "source": [
    "using JuMP, NamedArrays, HiGHS\n",
    "\n",
    "J = [:A,:B,:C,:D] # jedi masters\n",
    "R = [ 1, 2, 3, 4] # training rooms\n",
    "\n",
    "# create a NamedArray representing the # of padawans that move between each pair of masters\n",
    "f = NamedArray([ 0 5 2 7\n",
    "                 5 0 3 8\n",
    "                 2 3 0 3\n",
    "                 7 8 3 0 ], (J,J))\n",
    "# create a NamedArray representing the distances between each pair of rooms\n",
    "d = NamedArray([   0  80 150 170\n",
    "                  80   0 130 100\n",
    "                 150 130   0 120\n",
    "                 170 100 120   0 ], (R,R))\n",
    "\n",
    "m = Model(HiGHS.Optimizer)\n",
    "set_silent(m)\n",
    "\n",
    "# create binary variables to determine which master is placed in each room\n",
    "@variable(m, x[J,R], Bin)\n",
    "# create binary variables for every combination of jedi, room, jedi, room quadruplet\n",
    "# this will allow us to \"linearize\" the objective\n",
    "@variable(m, z[J,R,J,R], Bin)\n",
    "\n",
    "for i in J\n",
    "    @constraint(m, sum( x[i,j] for j in R ) == 1)   # each Master is in exactly one room\n",
    "end\n",
    "\n",
    "for j in R\n",
    "    @constraint(m, sum( x[i,j] for i in J ) == 1)   # each room has exactly one Master\n",
    "end\n",
    "\n",
    "# create a set of constraints that linearizes the product of x[i,j] and x[k,l]\n",
    "for i in J\n",
    "    for j in R\n",
    "        for k in J\n",
    "            for l in R\n",
    "                @constraints(m, begin\n",
    "                    x[i,j] >= z[i,j,k, l]\n",
    "                    x[k, l ] >= z[i,j,k,l]\n",
    "                    x[i,j] + x[k,l] <= z[i,j,k,l] + 1\n",
    "                end)\n",
    "            end\n",
    "        end\n",
    "    end\n",
    "end\n",
    "\n",
    "# minimze the total distance the padawans must travel\n",
    "# because of structure of objective, everything is \"double counted.\" divide by 2 to scale.\n",
    "@objective(m, Min, 1/2*sum( f[i,k]*d[j,l]*z[i,j,k,l] for i in J, j in R, k in J, l in R ))\n",
    "\n",
    "optimize!(m)\n",
    "# store the solution in a NamedArray for easier reading\n",
    "sol = NamedArray(zeros(Int,4,4),(J,R),(\"Master\",\"Room\"))\n",
    "for i in J\n",
    "    for j in R\n",
    "        if value(x[i,j]) > 0.5\n",
    "            sol[i,j] = 1\n",
    "        end\n",
    "    end\n",
    "end\n",
    "println(sol)"
   ]
  },
  {
   "cell_type": "code",
   "execution_count": 6,
   "metadata": {},
   "outputs": [],
   "source": []
  }
 ],
 "metadata": {
  "kernelspec": {
   "display_name": "Julia 1.8.3",
   "language": "julia",
   "name": "julia-1.8"
  },
  "language_info": {
   "file_extension": ".jl",
   "mimetype": "application/julia",
   "name": "julia",
   "version": "1.8.3"
  }
 },
 "nbformat": 4,
 "nbformat_minor": 4
}

{
 "cells": [
  {
   "cell_type": "markdown",
   "metadata": {},
   "source": [
    "# Jedi Robes, Inc -- Basic Logical Constraints\n",
    "\n",
    "Production planning problems involve making decisions about how of several different products to make. Suppose Jedi Robes, Inc., top producer of robes for the Jedi Council, expands to producing 5 clothing items by using two different production processes: weaving and infusing. Each clothing item requires a number of hours to produce and contributes a fixed number of credits to JRI’s profit. Each unit of each product requires 20 hours of labor for final assembly. The production factory has 3 weaving machines and 2 infusion tanks. The facility runs 6 days a week with 2 shifts each day (8 hours/shift). Eight employees work in assembly, each working one shift/day. Figure out how many items to produce each week.\n",
    "\n",
    "|        | p1 | p2 | p3 | p4 | p5 |\n",
    "|--------|----|----|----|----|----|\n",
    "| Weave  | 12 | 20 | 0  | 25 | 15 |\n",
    "| Infuse | 10 | 8  | 16 | 0  | 0  |\n",
    "| Profit | 55 | 60 | 35 | 40 | 20 |\n"
   ]
  },
  {
   "cell_type": "code",
   "execution_count": 5,
   "metadata": {},
   "outputs": [
    {
     "name": "stdout",
     "output_type": "stream",
     "text": [
      "1104.0\n",
      "1-dimensional DenseAxisArray{Float64,1,...} with index sets:\n",
      "    Dimension 1, 1:5\n",
      "And data, a 5-element Vector{Float64}:\n",
      "  0.0\n",
      " 14.4\n",
      "  4.8\n",
      "  0.0\n",
      "  0.0\n"
     ]
    }
   ],
   "source": [
    "using JuMP, HiGHS\n",
    "\n",
    "# create Dictionaries of the data\n",
    "products = 1:5\n",
    "profit = Dict(zip(products,[50 65 35 0 50]))\n",
    "weave = Dict(zip(products, [12 20 0 25 15]))\n",
    "infuse = Dict(zip(products, [10 8 16 0 0]))\n",
    "assemble = Dict(zip(products, [20 20 20 20 20]))\n",
    "\n",
    "m = Model(HiGHS.Optimizer)\n",
    "set_silent(m)\n",
    "\n",
    "@variable(m, x[products] >= 0) # variable representing how many of each product to make\n",
    "\n",
    "# objective is to maximize profit\n",
    "@objective(m, Max, sum(x[i] * profit[i] for i in products))\n",
    "\n",
    "# constraint on number of weaving, infusing, and assembly hours available\n",
    "@constraint(m, sum(x[i]*weave[i] for i in products) <= 3*6*16)\n",
    "@constraint(m, sum(x[i]*infuse[i] for i in products) <= 2*6*16)\n",
    "@constraint(m, sum(x[i]*assemble[i] for i in products) <= 4*16*6)\n",
    "\n",
    "optimize!(m)\n",
    "\n",
    "# display solution \n",
    "println(objective_value(m))\n",
    "println(value.(x))"
   ]
  },
  {
   "cell_type": "markdown",
   "metadata": {},
   "source": [
    "## Logical constraints\n",
    "\n",
    "Add the requirement that we can produce no more than 2 products."
   ]
  },
  {
   "cell_type": "code",
   "execution_count": 6,
   "metadata": {},
   "outputs": [
    {
     "name": "stdout",
     "output_type": "stream",
     "text": [
      "ERROR:   getOptionIndex: Option \"OutputFlag\" is unknown\n"
     ]
    },
    {
     "ename": "MathOptInterface.UnsupportedAttribute{MathOptInterface.RawOptimizerAttribute}",
     "evalue": "MathOptInterface.UnsupportedAttribute{MathOptInterface.RawOptimizerAttribute}: Attribute MathOptInterface.RawOptimizerAttribute(\"OutputFlag\") is not supported by the model.",
     "output_type": "error",
     "traceback": [
      "MathOptInterface.UnsupportedAttribute{MathOptInterface.RawOptimizerAttribute}: Attribute MathOptInterface.RawOptimizerAttribute(\"OutputFlag\") is not supported by the model.\n",
      "\n",
      "Stacktrace:\n",
      " [1] set(model::HiGHS.Optimizer, param::MathOptInterface.RawOptimizerAttribute, value::Int64)\n",
      "   @ HiGHS ~/.julia/packages/HiGHS/Tm0Qb/src/MOI_wrapper.jl:502\n",
      " [2] set\n",
      "   @ ~/.julia/packages/MathOptInterface/3gomH/src/Bridges/bridge_optimizer.jl:832 [inlined]\n",
      " [3] set(model::MathOptInterface.Utilities.CachingOptimizer{MathOptInterface.Bridges.LazyBridgeOptimizer{HiGHS.Optimizer}, MathOptInterface.Utilities.UniversalFallback{MathOptInterface.Utilities.Model{Float64}}}, attr::MathOptInterface.RawOptimizerAttribute, value::Int64)\n",
      "   @ MathOptInterface.Utilities ~/.julia/packages/MathOptInterface/3gomH/src/Utilities/cachingoptimizer.jl:1051\n",
      " [4] set(m::Model, attr::MathOptInterface.RawOptimizerAttribute, value::Int64)\n",
      "   @ JuMP ~/.julia/packages/JuMP/puvTM/src/JuMP.jl:1270\n",
      " [5] set_optimizer_attribute\n",
      "   @ ~/.julia/packages/JuMP/puvTM/src/JuMP.jl:847 [inlined]\n",
      " [6] set_optimizer_attribute(model::Model, name::String, value::Int64)\n",
      "   @ JuMP ~/.julia/packages/JuMP/puvTM/src/JuMP.jl:811\n",
      " [7] top-level scope\n",
      "   @ ~/git-mods/isye524-s23/LogicalConstraints-JRI.ipynb:2"
     ]
    }
   ],
   "source": [
    "m = Model(HiGHS.Optimizer)\n",
    "set_silent(m)\n",
    "\n",
    "@variable(m, x[products] >= 0)\n",
    "@variable(m, z[products], Bin)\n",
    "\n",
    "@objective(m, Max, sum(x[i] * profit[i] for i in products))\n",
    "\n",
    "@constraint(m, sum(x[i]*weave[i] for i in products) <= 3*6*16)\n",
    "@constraint(m, sum(x[i]*infuse[i] for i in products) <= 2*6*16)\n",
    "@constraint(m, sum(x[i]*assemble[i] for i in products) <= 4*16*6)\n",
    "\n",
    "# value for big M is an upper bound on x\n",
    "# e.g., we can use the RHS of assembly constraint / assembly hours (20)\n",
    "M = 4*16*6 / 20\n",
    "\n",
    "# x > 0 => z = 1\n",
    "@constraint(m, ub[i in products], x[i] <= z[i]*M)\n",
    "\n",
    "# no more than 2 products\n",
    "@constraint(m, sum(z) <= 2)\n",
    "\n",
    "optimize!(m)\n",
    "# display solution \n",
    "println(objective_value(m))\n",
    "println(value.(x))"
   ]
  },
  {
   "cell_type": "markdown",
   "metadata": {},
   "source": [
    "## More Logical Constraints\n",
    "Add the requirement that we can't produce \"small quantities.\" In other words, if we produce a product, we must produce at least 5 units of it."
   ]
  },
  {
   "cell_type": "code",
   "execution_count": 7,
   "metadata": {},
   "outputs": [
    {
     "name": "stdout",
     "output_type": "stream",
     "text": [
      "ERROR:   getOptionIndex: Option \"OutputFlag\" is unknown\n"
     ]
    },
    {
     "ename": "MathOptInterface.UnsupportedAttribute{MathOptInterface.RawOptimizerAttribute}",
     "evalue": "MathOptInterface.UnsupportedAttribute{MathOptInterface.RawOptimizerAttribute}: Attribute MathOptInterface.RawOptimizerAttribute(\"OutputFlag\") is not supported by the model.",
     "output_type": "error",
     "traceback": [
      "MathOptInterface.UnsupportedAttribute{MathOptInterface.RawOptimizerAttribute}: Attribute MathOptInterface.RawOptimizerAttribute(\"OutputFlag\") is not supported by the model.\n",
      "\n",
      "Stacktrace:\n",
      " [1] set(model::HiGHS.Optimizer, param::MathOptInterface.RawOptimizerAttribute, value::Int64)\n",
      "   @ HiGHS ~/.julia/packages/HiGHS/Tm0Qb/src/MOI_wrapper.jl:502\n",
      " [2] set\n",
      "   @ ~/.julia/packages/MathOptInterface/3gomH/src/Bridges/bridge_optimizer.jl:832 [inlined]\n",
      " [3] set(model::MathOptInterface.Utilities.CachingOptimizer{MathOptInterface.Bridges.LazyBridgeOptimizer{HiGHS.Optimizer}, MathOptInterface.Utilities.UniversalFallback{MathOptInterface.Utilities.Model{Float64}}}, attr::MathOptInterface.RawOptimizerAttribute, value::Int64)\n",
      "   @ MathOptInterface.Utilities ~/.julia/packages/MathOptInterface/3gomH/src/Utilities/cachingoptimizer.jl:1051\n",
      " [4] set(m::Model, attr::MathOptInterface.RawOptimizerAttribute, value::Int64)\n",
      "   @ JuMP ~/.julia/packages/JuMP/puvTM/src/JuMP.jl:1270\n",
      " [5] set_optimizer_attribute\n",
      "   @ ~/.julia/packages/JuMP/puvTM/src/JuMP.jl:847 [inlined]\n",
      " [6] set_optimizer_attribute(model::Model, name::String, value::Int64)\n",
      "   @ JuMP ~/.julia/packages/JuMP/puvTM/src/JuMP.jl:811\n",
      " [7] top-level scope\n",
      "   @ ~/git-mods/isye524-s23/LogicalConstraints-JRI.ipynb:2"
     ]
    }
   ],
   "source": [
    "m = Model(HiGHS.Optimizer)\n",
    "set_silent(m)\n",
    "\n",
    "@variable(m, x[products] >= 0)\n",
    "@variable(m, z[products], Bin)\n",
    "\n",
    "@objective(m, Max, sum(x[i] * profit[i] for i in products))\n",
    "\n",
    "@constraint(m, sum(x[i]*weave[i] for i in products) <= 3*6*16)\n",
    "@constraint(m, sum(x[i]*infuse[i] for i in products) <= 2*6*16)\n",
    "@constraint(m, sum(x[i]*assemble[i] for i in products) <= 4*16*6)\n",
    "\n",
    "# value for big M is an upper bound on x\n",
    "# e.g., we can use the RHS of assembly constraint / assembly hours (20)\n",
    "M = 4*16*6 / 20\n",
    "\n",
    "# x > 0 => z = 1\n",
    "@constraint(m, ub[i in products], x[i] <= z[i]*M)\n",
    "\n",
    "# no more than 2 products\n",
    "@constraint(m, sum(z) <= 2)\n",
    "\n",
    "# produce at least 5 of any product where z=1\n",
    "@constraint(m, lb[i in products], x[i] >= 5*z[i])\n",
    "optimize!(m)\n",
    "# display solution \n",
    "println(objective_value(m))\n",
    "println(value.(x))"
   ]
  },
  {
   "cell_type": "code",
   "execution_count": 8,
   "metadata": {},
   "outputs": [],
   "source": []
  }
 ],
 "metadata": {
  "kernelspec": {
   "display_name": "Julia 1.8.3",
   "language": "julia",
   "name": "julia-1.8"
  },
  "language_info": {
   "file_extension": ".jl",
   "mimetype": "application/julia",
   "name": "julia",
   "version": "1.8.3"
  }
 },
 "nbformat": 4,
 "nbformat_minor": 4
}

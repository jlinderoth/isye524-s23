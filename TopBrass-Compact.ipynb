{
 "cells": [
  {
   "cell_type": "markdown",
   "metadata": {},
   "source": [
    "# Top Brass (as compact as possible) -- Example 5.1 in Rardin (1998)\n",
    "\n",
    "Top Brass Trophy Company makes large championship trophies for youth athletic leagues. At the moment, they are planning production for fall sports: football and soccer. Each football trophy has a wood base, an engraved plaque, a large brass football on top, and returns \\\\$12 in profit. Soccer trophies are similar (a brass ball, a wood base, and an engraved plaque) except that a brass soccer ball is on top, and the unit profit is only \\\\$9. Since the football has an asymmetric shape, its base requires 4 board feet of wood; the soccer base requires only 2 board feet. At the moment there are 1000 brass footballs in stock, 1500 soccer balls, 1750 plaques, and 4800 board feet of wood. What trophies should be produced from these supplies to maximize total profit assuming that all that are made can be sold?\n",
    "\n",
    "## Problem Data\n",
    "\n",
    "Like the modular version, we separate the data from the model structure. Now we also introduce the \"NamedArray\" object, which is a nice way to format arrays of data."
   ]
  },
  {
   "cell_type": "code",
   "execution_count": null,
   "metadata": {},
   "outputs": [],
   "source": [
    "trophy_types = [:football, :soccer] # these are the possible trophy types\n",
    "\n",
    "resources = [:wood, :plaques, :brass_football, :brass_soccer] # what goes into each trophy\n",
    "\n",
    "profit = Dict( zip(trophy_types, [12,9] ) ) # profit produced by each trophy type\n",
    "\n",
    "resource_avail = Dict( zip(resources, [4800, 1750, 1000, 1500] ) ); # amount of each type of resource available\n",
    "\n",
    "# we use the NamedArrays package (you'll need to Pkg.add it first)\n",
    "using NamedArrays\n",
    "\n",
    "# create a matrix (Array) of the \"recipe\" for each trophy type. \n",
    "# each row is a trophy type, each column is a resource (should be ordered the same as the resources array).\n",
    "# we read this as: \"trophy type 1 (:football) requires 4 of resource 1 (:wood), 1 of resource 2 (:plaques),\n",
    "# 1 of resource 3 (:brass_football), and 0 of resouce 4 (:brass_soccer).\"\n",
    "# row 2 is similar, but for trophy type :soccer.\n",
    "trophy_resource_matrix = [4 1 1 0\n",
    "                            2 1 0 1]\n",
    "\n",
    "# create NamedArray that contains info on how much of each resource each trophy uses.\n",
    "# syntax is (<\"recipe\" matrix>, (<row indices>,<column indices>),(<row name>,<column name>))\n",
    "trophy_resource_NA = NamedArray(trophy_resource_matrix, (trophy_types, resources), (\"type\",\"resource\"))\n",
    "\n",
    "# check out the output to see how NamedArrays are structured:"
   ]
  },
  {
   "cell_type": "markdown",
   "metadata": {},
   "source": [
    "## Top Brass Model\n"
   ]
  },
  {
   "cell_type": "code",
   "execution_count": null,
   "metadata": {},
   "outputs": [],
   "source": [
    "# always specify which packages you're going to use\n",
    "using JuMP, Clp\n",
    "\n",
    "#create a new model object, specifying the solver\n",
    "m = Model(Clp.Optimizer)\n",
    "\n",
    "# trophy variable object is now a Dictionary indexed over trophy types (elements are variables)\n",
    "@variable(m, trophy[trophy_types] >= 0)\n",
    "\n",
    "# use an expression object to calculate the total profit\n",
    "@expression(m, tot_profit, sum(profit[i] * trophy[i] for i in trophy_types) )\n",
    "\n",
    "# our trophy/resource NamedArray allows us to create a Dictionary of constraints.\n",
    "# indices are resources, and elements are constraint objects.\n",
    "@constraint(m, constr[i in resources], sum(trophy_resource_NA[t, i] * trophy[t] for t in trophy_types) <= resource_avail[i] )\n",
    "\n",
    "# our objective is to maximize the total profit\n",
    "@objective(m, Max, tot_profit)\n",
    "\n",
    "# solve the instance of the problem\n",
    "optimize!(m)\n",
    "\n",
    "# display solution information\n",
    "println(value.(trophy))\n",
    "println(\"Total profit will be \\$\", objective_value(m))"
   ]
  },
  {
   "cell_type": "code",
   "execution_count": null,
   "metadata": {},
   "outputs": [],
   "source": []
  }
 ],
 "metadata": {
  "kernelspec": {
   "display_name": "Julia 1.7.3",
   "language": "julia",
   "name": "julia-1.7"
  },
  "language_info": {
   "file_extension": ".jl",
   "mimetype": "application/julia",
   "name": "julia",
   "version": "1.7.3"
  }
 },
 "nbformat": 4,
 "nbformat_minor": 4
}

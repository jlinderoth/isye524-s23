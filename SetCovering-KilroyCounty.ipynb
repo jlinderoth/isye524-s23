{
 "cells": [
  {
   "cell_type": "markdown",
   "metadata": {},
   "source": [
    "# Kilroy County Fire Stations - A Set Covering Example\n",
    "\n",
    "Kilroy County has 6 cities. The county must determine where to build fire stations to serve these cities. They want to build the stations in some of the cities, and to build the minimum number of stations needed to ensure that at least one station is within 15 minutes driving time of each city. Can we formulate an integer program whose solution gives the minimum number of re stations and their locations?\n",
    "\n",
    "The distances are in the table below:\n",
    "\n",
    "|   | 1  | 2  | 3  | 4  | 5  | 6  |\n",
    "|---|----|----|----|----|----|-----|\n",
    "| 1 | 0  | 10 | 20 | 30 | 30 | 20 |\n",
    "| 2 | 10 | 0  | 25 | 35 | 20 | 10 |\n",
    "| 3 | 20 | 25 | 0  | 15 | 30 | 20 |\n",
    "| 4 | 30 | 35 | 15 | 0  | 15 | 25 |\n",
    "| 5 | 30 | 20 | 30 | 15 | 0  | 14 |\n",
    "| 6 | 20 | 10 | 20 | 25 | 14 | 0   |\n"
   ]
  },
  {
   "cell_type": "code",
   "execution_count": 1,
   "metadata": {},
   "outputs": [
    {
     "name": "stdout",
     "output_type": "stream",
     "text": [
      "Where do we build stations?\n"
     ]
    },
    {
     "name": "stdout",
     "output_type": "stream",
     "text": [
      "city 2\n",
      "city 4\n"
     ]
    }
   ],
   "source": [
    "using JuMP, HiGHS, NamedArrays\n",
    "\n",
    "# array of cities\n",
    "cities = [1,2,3,4,5,6]\n",
    "\n",
    "# NamedArray representing the distance between each pair of cities\n",
    "dist = NamedArray([0 10 20 30 30 20\n",
    "            10 0 25 35 20 10\n",
    "            20 25 0 15 30 20\n",
    "            30 35 15 0 15 25\n",
    "            30 20 30 15 0 14\n",
    "            20 10 20 25 14 0],(cities,cities),(\"city\",\"city\"))\n",
    "\n",
    "\n",
    "# A is a matrix with rows representing possible stations and columns representing \n",
    "# the cities covered by that station\n",
    "A = [1 1 0 0 0 0\n",
    "    1 1 0 0 0 1\n",
    "    0 0 1 1 0 0\n",
    "    0 0 1 1 1 0\n",
    "    0 0 0 1 1 1\n",
    "    0 1 0 0 1 1]\n",
    ";\n",
    "\n",
    "m = Model(HiGHS.Optimizer)\n",
    "set_silent(m)\n",
    "\n",
    "# binary variable for whether we build a station in each city\n",
    "@variable(m, x[cities], Bin)\n",
    "\n",
    "# each city should be covered by at least one station\n",
    "for j in cities\n",
    "    @constraint(m, sum(A[i,j]x[i] for i in cities ) >= 1)\n",
    "end\n",
    "\n",
    "# minimize the total number of stations\n",
    "@objective(m, Min, sum(x))\n",
    "                \n",
    "optimize!(m)\n",
    "\n",
    "println(\"Where do we build stations?\")\n",
    "for i in cities\n",
    "    if value(x[i]) == 1\n",
    "        println(\"city \", i)\n",
    "    end\n",
    "end"
   ]
  },
  {
   "cell_type": "code",
   "execution_count": 2,
   "metadata": {},
   "outputs": [],
   "source": []
  }
 ],
 "metadata": {
  "kernelspec": {
   "display_name": "Julia 1.8.3",
   "language": "julia",
   "name": "julia-1.8"
  },
  "language_info": {
   "file_extension": ".jl",
   "mimetype": "application/julia",
   "name": "julia",
   "version": "1.8.3"
  }
 },
 "nbformat": 4,
 "nbformat_minor": 4
}

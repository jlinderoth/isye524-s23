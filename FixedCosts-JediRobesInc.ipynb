{
 "cells": [
  {
   "cell_type": "markdown",
   "metadata": {},
   "source": [
    "# Jedi Robes, Inc -- Basic Integer Programming\n",
    "\n",
    "Suppose Jedi Robes, Inc., top producer of robes for the Jedi Council, makes a set of three items: robes, sandals, and hoods. Each item requires a different machine, which can be rented at the following costs:\n",
    "\n",
    "* Robes machine costs \\\\$200/month\n",
    "* Sandals machine costs \\\\$150/month\n",
    "* Hoods machine costs \\\\$100/month\n",
    "\n",
    "Jedi Robes, Inc., can choose not to rent a machine, but then they cannot produce any of that item. Robes require 3 hours of labor and 4 square yards of cloth. They sell for \\\\$12 and cost \\$6 to make. Sandals require 6 hours of labor and 4 square yards of cloth. They sell for \\\\$15 and cost \\\\$8 to make. Hoods require 2 hours of labor and 3 square yards of cloth. They sell for \\\\$8 and cost \\\\$4 to make. There are 150 hours of labor and 160 square yards of cloth available.\n",
    "\n",
    "How should Jedi Robes, Inc., produce items for the Council?"
   ]
  },
  {
   "cell_type": "code",
   "execution_count": 1,
   "metadata": {},
   "outputs": [
    {
     "name": "stdout",
     "output_type": "stream",
     "text": [
      "Make the following products: \n"
     ]
    },
    {
     "name": "stdout",
     "output_type": "stream",
     "text": [
      "0.0 robes\n",
      "0.0 sandals\n",
      "53.0 hoods\n"
     ]
    },
    {
     "name": "stdout",
     "output_type": "stream",
     "text": [
      "Revenue: 112.0\n"
     ]
    }
   ],
   "source": [
    "using JuMP, HiGHS\n",
    "\n",
    "p = [:robes,:sandals,:hoods]\n",
    "var_costs = Dict(zip(p,[6 8 4]))\n",
    "fixed_costs = Dict(zip(p,[200 150 100]))\n",
    "profit = Dict(zip(p,[12 15 8]))\n",
    "labor = Dict(zip(p,[3 6 2]))\n",
    "cloth = Dict(zip(p, [4 4 3]))\n",
    "labor_avail = 150\n",
    "cloth_avail = 160\n",
    "\n",
    "M = 1000 # very large number\n",
    "\n",
    "m = Model(HiGHS.Optimizer)\n",
    "set_silent(m)\n",
    "\n",
    "@variable(m, x[p] >= 0, Int) # how many do we produce of product p?\n",
    "@variable(m, z[p], Bin) # do we produce any of product p?\n",
    "\n",
    "# maximize profit - costs\n",
    "@objective(m, Max, sum(profit[i]*x[i] - fixed_costs[i]*z[i] - var_costs[i]*x[i] for i in p))\n",
    "\n",
    "@constraint(m, labor_constr, sum(labor[i]*x[i] for i in p) <= labor_avail) # use only available labor hours\n",
    "@constraint(m, cloth_constr, sum(cloth[i]*x[i] for i in p) <= cloth_avail) # use only available cloth\n",
    "\n",
    "@constraint(m, logic_constr[i in p], x[i] <= M*z[i]) # if you don't make product i (z=0), the number you produce must be 0\n",
    "\n",
    "optimize!(m)\n",
    "\n",
    "println(\"Make the following products: \" )\n",
    "for i in p\n",
    "    println(value(x[i]), \" \", i)\n",
    "end\n",
    "println(\"Revenue: \", objective_value(m))"
   ]
  },
  {
   "cell_type": "code",
   "execution_count": 2,
   "metadata": {},
   "outputs": [],
   "source": []
  }
 ],
 "metadata": {
  "kernelspec": {
   "display_name": "Julia 1.8.3",
   "language": "julia",
   "name": "julia-1.8"
  },
  "language_info": {
   "file_extension": ".jl",
   "mimetype": "application/julia",
   "name": "julia",
   "version": "1.8.3"
  }
 },
 "nbformat": 4,
 "nbformat_minor": 4
}

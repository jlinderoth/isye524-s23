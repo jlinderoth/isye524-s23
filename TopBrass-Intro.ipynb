{
 "cells": [
  {
   "cell_type": "markdown",
   "metadata": {},
   "source": [
    "# Top Brass\n",
    "\n",
    "Top Brass Trophy Company makes large championship trophies for youth athletic leagues. At the moment, they are planning production for fall sports: football and soccer. Each football trophy has a wood base, an engraved plaque, a large brass football on top, and returns \\\\$12 in profit. Soccer trophies are similar (a brass ball, a wood base, and an engraved plaque) except that a brass soccer ball is on top, and the unit profit is only \\\\$9. Since the football has an asymmetric shape, its base requires 4 board feet of wood; the soccer base requires only 2 board feet. At the moment there are 1000 brass footballs in stock, 1500 soccer balls, 1750 plaques, and 4800 board feet of wood. What trophies should be produced from these supplies to maximize total profit assuming that all that are made can be sold?\n",
    "\n",
    "## The Top Brass Model"
   ]
  },
  {
   "cell_type": "code",
   "execution_count": null,
   "metadata": {},
   "outputs": [],
   "source": [
    "# always specify which packages you're going to use\n",
    "using JuMP, Clp\n",
    "\n",
    "#create a new model object\n",
    "m = Model()\n",
    "\n",
    "# we need variables for football trophies and soccer trophies\n",
    "# format is (<model name>, <variable name>). we can optionally\n",
    "# include bounds on each variable.\n",
    "@variable(m, ft >= 0)\n",
    "@variable(m, st >= 0)\n",
    "\n",
    "# objective is to maximize profit\n",
    "# format is (<model name>, <Max or Min>, <algebraic function>)\n",
    "@objective(m, Max, 12*ft + 9*st)\n",
    "\n",
    "# constraint on the wood available\n",
    "# format is (<model name>, <constraint name>, <algebraic constraint>)\n",
    "@constraint(m, wood_con, 4ft + 2st <= 4800)\n",
    "\n",
    "#constraint on the plaques available\n",
    "@constraint(m, plaque_con, ft + st <= 1750)\n",
    "\n",
    "# constraints on brass footballs, soccerballs available\n",
    "@constraint(m, brass_football_con, ft <= 1000)\n",
    "@constraint(m, brass_soccerball_con, st <= 1500)\n",
    "; \n",
    "# like Matlab, a \";\" (semicolon) supresses output"
   ]
  },
  {
   "cell_type": "markdown",
   "metadata": {},
   "source": [
    "Now let's solve it and take a look at the values!"
   ]
  },
  {
   "cell_type": "code",
   "execution_count": null,
   "metadata": {},
   "outputs": [],
   "source": [
    "println(\"Time to solve this model using Clp: \")\n",
    "\n",
    "# specify the solver you want to use to solve Model m\n",
    "set_optimizer(m, Clp.Optimizer)\n",
    "\n",
    "# use the @time macro to measure the amount of time it takes to solve m\n",
    "@time(optimize!(m))\n",
    "\n",
    "println(\"Build \", value(ft), \" football trophies.\")\n",
    "println(\"Build \", value(st), \" soccer trophies.\")\n",
    "println(\"Total profit will be \\$\", objective_value(m))"
   ]
  },
  {
   "cell_type": "markdown",
   "metadata": {},
   "source": [
    "Let's see what happens with a solver that isn't built to solve this type of model!"
   ]
  },
  {
   "cell_type": "code",
   "execution_count": null,
   "metadata": {},
   "outputs": [],
   "source": [
    "using SCS\n",
    "\n",
    "println(\"Time to solve this model using SCS: \")\n",
    "set_optimizer(m, SCS.Optimizer)\n",
    "@time(optimize!(m))\n",
    "\n",
    "println(\"Build \", value(ft), \" football trophies.\")\n",
    "println(\"Build \", value(st), \" soccer trophies.\")\n",
    "println(\"Total profit will be \\$\", objective_value(m))\n",
    "\n",
    "# some solvers (including SCS), output a lot of information along with the solution.\n",
    "# it can be helpful to explicitly print some desired solution components, as we've done here."
   ]
  },
  {
   "cell_type": "code",
   "execution_count": null,
   "metadata": {},
   "outputs": [],
   "source": []
  }
 ],
 "metadata": {
  "kernelspec": {
   "display_name": "Julia 1.8.3",
   "language": "julia",
   "name": "julia-1.8"
  },
  "language_info": {
   "file_extension": ".jl",
   "mimetype": "application/julia",
   "name": "julia",
   "version": "1.8.3"
  }
 },
 "nbformat": 4,
 "nbformat_minor": 4
}
